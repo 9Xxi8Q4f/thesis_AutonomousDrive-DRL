{
 "cells": [
  {
   "cell_type": "code",
   "execution_count": 1,
   "metadata": {},
   "outputs": [
    {
     "name": "stderr",
     "output_type": "stream",
     "text": [
      "2023-12-12 01:31:36.125017: I tensorflow/core/util/port.cc:111] oneDNN custom operations are on. You may see slightly different numerical results due to floating-point round-off errors from different computation orders. To turn them off, set the environment variable `TF_ENABLE_ONEDNN_OPTS=0`.\n",
      "2023-12-12 01:31:36.148773: E tensorflow/compiler/xla/stream_executor/cuda/cuda_dnn.cc:9342] Unable to register cuDNN factory: Attempting to register factory for plugin cuDNN when one has already been registered\n",
      "2023-12-12 01:31:36.148794: E tensorflow/compiler/xla/stream_executor/cuda/cuda_fft.cc:609] Unable to register cuFFT factory: Attempting to register factory for plugin cuFFT when one has already been registered\n",
      "2023-12-12 01:31:36.148814: E tensorflow/compiler/xla/stream_executor/cuda/cuda_blas.cc:1518] Unable to register cuBLAS factory: Attempting to register factory for plugin cuBLAS when one has already been registered\n",
      "2023-12-12 01:31:36.153256: I tensorflow/core/platform/cpu_feature_guard.cc:182] This TensorFlow binary is optimized to use available CPU instructions in performance-critical operations.\n",
      "To enable the following instructions: AVX2 AVX_VNNI FMA, in other operations, rebuild TensorFlow with the appropriate compiler flags.\n"
     ]
    }
   ],
   "source": [
    "import gymnasium as gym\n",
    "import matplotlib.pyplot as plt\n",
    "import numpy as np\n",
    "import time\n",
    "import pprint\n",
    "from tqdm.notebook import trange\n",
    "\n",
    "from sac import Agent\n",
    "from obs import observation_shape\n",
    "from utils import record_videos, load_config\n",
    "\n",
    "filename = 'inverted_pendulum.png'\n",
    "\n",
    "best_score = -10000.0\n",
    "best_score = -1000.0\n",
    "score_history = []\n",
    "episode_lens = []\n",
    "avg_history = []\n",
    "std_history = []\n",
    "avg_history_100 = []"
   ]
  },
  {
   "cell_type": "code",
   "execution_count": 2,
   "metadata": {},
   "outputs": [
    {
     "name": "stdout",
     "output_type": "stream",
     "text": [
      "{'action': {'lateral': True, 'longitudinal': True, 'type': 'ContinuousAction'},\n",
      " 'action_reward': -0.3,\n",
      " 'centering_position': [0.7, 0.7],\n",
      " 'collision_reward': -1,\n",
      " 'controlled_vehicles': 1,\n",
      " 'duration': 80,\n",
      " 'lane_centering_cost': 4,\n",
      " 'lane_centering_reward': 1,\n",
      " 'manual_control': False,\n",
      " 'observation': {'features': ['presence',\n",
      "                              'x',\n",
      "                              'y',\n",
      "                              'vx',\n",
      "                              'vy',\n",
      "                              'cos_h',\n",
      "                              'sin_h',\n",
      "                              'heading',\n",
      "                              'long_off',\n",
      "                              'lat_off',\n",
      "                              'ang_off'],\n",
      "                 'features_range': {'vx': [-20, 20],\n",
      "                                    'vy': [-20, 20],\n",
      "                                    'x': [-100, 100],\n",
      "                                    'y': [-100, 100]},\n",
      "                 'type': 'Kinematics',\n",
      "                 'vehicles_count': 1},\n",
      " 'offscreen_rendering': False,\n",
      " 'other_vehicles': 1,\n",
      " 'other_vehicles_type': 'highway_env.vehicle.behavior.IDMVehicle',\n",
      " 'policy_frequency': 5,\n",
      " 'real_time_rendering': True,\n",
      " 'render_agent': True,\n",
      " 'scaling': 5.5,\n",
      " 'screen_height': 600,\n",
      " 'screen_width': 600,\n",
      " 'show_trajectories': True,\n",
      " 'simulation_frequency': 15}\n",
      "(26,)\n"
     ]
    },
    {
     "name": "stderr",
     "output_type": "stream",
     "text": [
      "/home/o/Documents/thesis/.venv/lib/python3.10/site-packages/gymnasium/core.py:311: UserWarning: \u001b[33mWARN: env.configure to get variables from other wrappers is deprecated and will be removed in v1.0, to get this variable you can do `env.unwrapped.configure` for environment variables or `env.get_wrapper_attr('configure')` that will search the reminding wrappers.\u001b[0m\n",
      "  logger.warn(\n",
      "/home/o/Documents/thesis/.venv/lib/python3.10/site-packages/gymnasium/core.py:311: UserWarning: \u001b[33mWARN: env.config to get variables from other wrappers is deprecated and will be removed in v1.0, to get this variable you can do `env.unwrapped.config` for environment variables or `env.get_wrapper_attr('config')` that will search the reminding wrappers.\u001b[0m\n",
      "  logger.warn(\n"
     ]
    }
   ],
   "source": [
    "data = load_config()\n",
    "env = gym.make('racetrack-v0', render_mode = 'rgb_array')\n",
    "env.configure(data) # type: ignore\n",
    "pprint.pprint(env.config) # type: ignore\n",
    "(obs, info), done = env.reset(), False\n",
    "\n",
    "#observation config\n",
    "proc = observation_shape(obs,info,2)\n",
    "proc.reset()\n",
    "input = proc.get_input()\n",
    "print(input.shape)\n"
   ]
  },
  {
   "cell_type": "code",
   "execution_count": 3,
   "metadata": {},
   "outputs": [
    {
     "name": "stderr",
     "output_type": "stream",
     "text": [
      "2023-12-12 01:31:44.224790: I tensorflow/compiler/xla/stream_executor/cuda/cuda_gpu_executor.cc:894] successful NUMA node read from SysFS had negative value (-1), but there must be at least one NUMA node, so returning NUMA node zero. See more at https://github.com/torvalds/linux/blob/v6.0/Documentation/ABI/testing/sysfs-bus-pci#L344-L355\n",
      "2023-12-12 01:31:44.246498: I tensorflow/compiler/xla/stream_executor/cuda/cuda_gpu_executor.cc:894] successful NUMA node read from SysFS had negative value (-1), but there must be at least one NUMA node, so returning NUMA node zero. See more at https://github.com/torvalds/linux/blob/v6.0/Documentation/ABI/testing/sysfs-bus-pci#L344-L355\n",
      "2023-12-12 01:31:44.246608: I tensorflow/compiler/xla/stream_executor/cuda/cuda_gpu_executor.cc:894] successful NUMA node read from SysFS had negative value (-1), but there must be at least one NUMA node, so returning NUMA node zero. See more at https://github.com/torvalds/linux/blob/v6.0/Documentation/ABI/testing/sysfs-bus-pci#L344-L355\n",
      "2023-12-12 01:31:44.247269: I tensorflow/compiler/xla/stream_executor/cuda/cuda_gpu_executor.cc:894] successful NUMA node read from SysFS had negative value (-1), but there must be at least one NUMA node, so returning NUMA node zero. See more at https://github.com/torvalds/linux/blob/v6.0/Documentation/ABI/testing/sysfs-bus-pci#L344-L355\n",
      "2023-12-12 01:31:44.247344: I tensorflow/compiler/xla/stream_executor/cuda/cuda_gpu_executor.cc:894] successful NUMA node read from SysFS had negative value (-1), but there must be at least one NUMA node, so returning NUMA node zero. See more at https://github.com/torvalds/linux/blob/v6.0/Documentation/ABI/testing/sysfs-bus-pci#L344-L355\n",
      "2023-12-12 01:31:44.247390: I tensorflow/compiler/xla/stream_executor/cuda/cuda_gpu_executor.cc:894] successful NUMA node read from SysFS had negative value (-1), but there must be at least one NUMA node, so returning NUMA node zero. See more at https://github.com/torvalds/linux/blob/v6.0/Documentation/ABI/testing/sysfs-bus-pci#L344-L355\n",
      "2023-12-12 01:31:44.593221: I tensorflow/compiler/xla/stream_executor/cuda/cuda_gpu_executor.cc:894] successful NUMA node read from SysFS had negative value (-1), but there must be at least one NUMA node, so returning NUMA node zero. See more at https://github.com/torvalds/linux/blob/v6.0/Documentation/ABI/testing/sysfs-bus-pci#L344-L355\n",
      "2023-12-12 01:31:44.593312: I tensorflow/compiler/xla/stream_executor/cuda/cuda_gpu_executor.cc:894] successful NUMA node read from SysFS had negative value (-1), but there must be at least one NUMA node, so returning NUMA node zero. See more at https://github.com/torvalds/linux/blob/v6.0/Documentation/ABI/testing/sysfs-bus-pci#L344-L355\n",
      "2023-12-12 01:31:44.593372: I tensorflow/compiler/xla/stream_executor/cuda/cuda_gpu_executor.cc:894] successful NUMA node read from SysFS had negative value (-1), but there must be at least one NUMA node, so returning NUMA node zero. See more at https://github.com/torvalds/linux/blob/v6.0/Documentation/ABI/testing/sysfs-bus-pci#L344-L355\n",
      "2023-12-12 01:31:44.593417: I tensorflow/core/common_runtime/gpu/gpu_device.cc:1886] Created device /job:localhost/replica:0/task:0/device:GPU:0 with 9759 MB memory:  -> device: 0, name: NVIDIA GeForce RTX 3060, pci bus id: 0000:01:00.0, compute capability: 8.6\n"
     ]
    }
   ],
   "source": [
    "agent = Agent(input_dims=input.shape, env=env,\n",
    "            n_actions=2)"
   ]
  },
  {
   "cell_type": "code",
   "execution_count": 5,
   "metadata": {},
   "outputs": [
    {
     "data": {
      "application/vnd.jupyter.widget-view+json": {
       "model_id": "fe57404b7968468ea1e5a3e0e0ca1d7c",
       "version_major": 2,
       "version_minor": 0
      },
      "text/plain": [
       "Test episodes:   0%|          | 0/500 [00:00<?, ?it/s]"
      ]
     },
     "metadata": {},
     "output_type": "display_data"
    },
    {
     "name": "stdout",
     "output_type": "stream",
     "text": [
      "episode  0 score -0.6 ep len 6 avg score -0.4 avg_score_100 -0.2 std score 2.5\n",
      "episode  1 score 0.4 ep len 15 avg score -0.4 avg_score_100 -0.2 std score 2.5\n",
      "episode  2 score 0.4 ep len 8 avg score -0.4 avg_score_100 -0.2 std score 2.5\n",
      "episode  3 score 0.4 ep len 7 avg score -0.4 avg_score_100 -0.2 std score 2.5\n",
      "episode  4 score -0.1 ep len 20 avg score -0.4 avg_score_100 -0.2 std score 2.5\n",
      "episode  5 score 1.0 ep len 16 avg score -0.4 avg_score_100 -0.2 std score 2.4\n",
      "episode  6 score 0.7 ep len 5 avg score -0.4 avg_score_100 -0.2 std score 2.4\n",
      "episode  7 score 1.2 ep len 14 avg score -0.4 avg_score_100 -0.2 std score 2.4\n",
      "episode  8 score 5.4 ep len 17 avg score -0.3 avg_score_100 -0.1 std score 2.5\n",
      "episode  9 score 2.2 ep len 12 avg score -0.3 avg_score_100 -0.1 std score 2.5\n",
      "episode  10 score 2.9 ep len 12 avg score -0.3 avg_score_100 -0.1 std score 2.5\n",
      "episode  11 score 4.4 ep len 16 avg score -0.3 avg_score_100 -0.0 std score 2.5\n",
      "episode  12 score 2.1 ep len 8 avg score -0.2 avg_score_100 -0.0 std score 2.5\n",
      "episode  13 score -0.2 ep len 3 avg score -0.2 avg_score_100 -0.0 std score 2.5\n",
      "episode  14 score 2.4 ep len 25 avg score -0.2 avg_score_100 0.0 std score 2.5\n",
      "episode  15 score -0.2 ep len 4 avg score -0.2 avg_score_100 0.0 std score 2.5\n",
      "episode  16 score 1.3 ep len 10 avg score -0.2 avg_score_100 0.0 std score 2.5\n",
      "episode  17 score 1.3 ep len 14 avg score -0.2 avg_score_100 0.1 std score 2.5\n",
      "episode  18 score 2.6 ep len 12 avg score -0.2 avg_score_100 0.3 std score 2.5\n",
      "episode  19 score 1.4 ep len 36 avg score -0.2 avg_score_100 0.3 std score 2.5\n",
      "episode  20 score 4.0 ep len 18 avg score -0.2 avg_score_100 0.3 std score 2.5\n",
      "episode  21 score 1.0 ep len 8 avg score -0.1 avg_score_100 0.3 std score 2.5\n",
      "episode  22 score 2.2 ep len 17 avg score -0.1 avg_score_100 0.5 std score 2.5\n",
      "episode  23 score 4.1 ep len 19 avg score -0.1 avg_score_100 0.5 std score 2.5\n",
      "episode  24 score 10.3 ep len 18 avg score -0.0 avg_score_100 0.6 std score 2.6\n",
      "episode  25 score 9.3 ep len 18 avg score 0.0 avg_score_100 0.7 std score 2.7\n",
      "episode  26 score 13.9 ep len 27 avg score 0.1 avg_score_100 0.8 std score 2.9\n",
      "episode  27 score 16.0 ep len 50 avg score 0.2 avg_score_100 1.0 std score 3.1\n",
      "episode  28 score 4.3 ep len 28 avg score 0.2 avg_score_100 1.1 std score 3.1\n",
      "episode  29 score 11.3 ep len 37 avg score 0.3 avg_score_100 1.2 std score 3.2\n",
      "episode  30 score 11.1 ep len 38 avg score 0.3 avg_score_100 1.3 std score 3.3\n",
      "episode  31 score 14.1 ep len 37 avg score 0.4 avg_score_100 1.4 std score 3.4\n",
      "episode  32 score 11.9 ep len 32 avg score 0.5 avg_score_100 1.6 std score 3.5\n",
      "episode  33 score 13.8 ep len 43 avg score 0.5 avg_score_100 1.7 std score 3.7\n",
      "episode  34 score 15.7 ep len 40 avg score 0.6 avg_score_100 1.9 std score 3.8\n",
      "episode  35 score 9.2 ep len 44 avg score 0.7 avg_score_100 2.0 std score 3.9\n",
      "episode  36 score 13.4 ep len 38 avg score 0.7 avg_score_100 2.1 std score 4.0\n",
      "episode  37 score 8.6 ep len 28 avg score 0.8 avg_score_100 2.2 std score 4.0\n",
      "episode  38 score 15.7 ep len 42 avg score 0.8 avg_score_100 2.3 std score 4.1\n",
      "episode  39 score 13.3 ep len 38 avg score 0.9 avg_score_100 2.5 std score 4.2\n",
      "episode  40 score 15.2 ep len 32 avg score 1.0 avg_score_100 2.6 std score 4.3\n",
      "episode  41 score 14.2 ep len 35 avg score 1.1 avg_score_100 2.8 std score 4.4\n",
      "episode  42 score 13.0 ep len 31 avg score 1.1 avg_score_100 2.9 std score 4.5\n",
      "episode  43 score 17.1 ep len 30 avg score 1.2 avg_score_100 3.1 std score 4.6\n",
      "episode  44 score 14.6 ep len 27 avg score 1.3 avg_score_100 3.2 std score 4.7\n",
      "episode  45 score 8.1 ep len 22 avg score 1.3 avg_score_100 3.3 std score 4.7\n",
      "episode  46 score 16.6 ep len 35 avg score 1.4 avg_score_100 3.4 std score 4.8\n",
      "episode  47 score 12.1 ep len 24 avg score 1.4 avg_score_100 3.6 std score 4.9\n",
      "episode  48 score 16.6 ep len 34 avg score 1.5 avg_score_100 3.7 std score 5.0\n",
      "episode  49 score 18.5 ep len 34 avg score 1.6 avg_score_100 3.9 std score 5.1\n",
      "episode  50 score 13.0 ep len 22 avg score 1.7 avg_score_100 4.0 std score 5.2\n",
      "episode  51 score 10.1 ep len 23 avg score 1.7 avg_score_100 4.1 std score 5.2\n",
      "episode  52 score 18.5 ep len 33 avg score 1.8 avg_score_100 4.3 std score 5.3\n",
      "episode  53 score 13.2 ep len 28 avg score 1.8 avg_score_100 4.4 std score 5.4\n",
      "episode  54 score 14.2 ep len 26 avg score 1.9 avg_score_100 4.6 std score 5.4\n",
      "episode  55 score 17.8 ep len 38 avg score 2.0 avg_score_100 4.8 std score 5.5\n",
      "episode  56 score 13.6 ep len 26 avg score 2.0 avg_score_100 4.9 std score 5.6\n",
      "episode  57 score 16.0 ep len 28 avg score 2.1 avg_score_100 5.1 std score 5.6\n",
      "episode  58 score 20.5 ep len 32 avg score 2.2 avg_score_100 5.3 std score 5.8\n",
      "episode  59 score 21.1 ep len 32 avg score 2.3 avg_score_100 5.5 std score 5.9\n",
      "episode  60 score 17.2 ep len 29 avg score 2.3 avg_score_100 5.7 std score 6.0\n",
      "episode  61 score 17.1 ep len 29 avg score 2.4 avg_score_100 5.8 std score 6.0\n",
      "episode  62 score 19.7 ep len 28 avg score 2.5 avg_score_100 6.0 std score 6.1\n",
      "episode  63 score 11.9 ep len 21 avg score 2.5 avg_score_100 6.1 std score 6.1\n",
      "episode  64 score 14.2 ep len 23 avg score 2.6 avg_score_100 6.3 std score 6.2\n",
      "episode  65 score 17.3 ep len 26 avg score 2.7 avg_score_100 6.4 std score 6.3\n",
      "episode  66 score 19.9 ep len 29 avg score 2.7 avg_score_100 6.6 std score 6.3\n",
      "episode  67 score 19.7 ep len 31 avg score 2.8 avg_score_100 6.8 std score 6.4\n",
      "episode  68 score 14.0 ep len 22 avg score 2.9 avg_score_100 7.0 std score 6.5\n",
      "episode  69 score 17.7 ep len 27 avg score 2.9 avg_score_100 7.2 std score 6.5\n",
      "episode  70 score 19.3 ep len 30 avg score 3.0 avg_score_100 7.4 std score 6.6\n",
      "episode  71 score 16.6 ep len 26 avg score 3.1 avg_score_100 7.5 std score 6.7\n",
      "episode  72 score 15.3 ep len 28 avg score 3.1 avg_score_100 7.7 std score 6.7\n",
      "episode  73 score 13.3 ep len 24 avg score 3.2 avg_score_100 7.8 std score 6.7\n",
      "episode  74 score 19.8 ep len 32 avg score 3.2 avg_score_100 8.0 std score 6.8\n",
      "episode  75 score 15.2 ep len 24 avg score 3.3 avg_score_100 8.1 std score 6.8\n",
      "episode  76 score 13.5 ep len 25 avg score 3.3 avg_score_100 8.2 std score 6.8\n",
      "episode  77 score 19.7 ep len 29 avg score 3.4 avg_score_100 8.4 std score 6.9\n",
      "episode  78 score 15.5 ep len 30 avg score 3.5 avg_score_100 8.6 std score 6.9\n",
      "episode  79 score 12.9 ep len 23 avg score 3.5 avg_score_100 8.7 std score 6.9\n",
      "episode  80 score 18.7 ep len 32 avg score 3.6 avg_score_100 8.9 std score 7.0\n",
      "episode  81 score 18.6 ep len 30 avg score 3.6 avg_score_100 9.1 std score 7.1\n",
      "episode  82 score 12.0 ep len 21 avg score 3.7 avg_score_100 9.2 std score 7.1\n",
      "episode  83 score 15.7 ep len 33 avg score 3.7 avg_score_100 9.3 std score 7.1\n",
      "episode  84 score 20.2 ep len 31 avg score 3.8 avg_score_100 9.5 std score 7.2\n",
      "episode  85 score 14.4 ep len 31 avg score 3.8 avg_score_100 9.7 std score 7.2\n",
      "episode  86 score 13.9 ep len 29 avg score 3.9 avg_score_100 9.8 std score 7.2\n",
      "episode  87 score 14.5 ep len 24 avg score 3.9 avg_score_100 10.0 std score 7.2\n",
      "episode  88 score 14.2 ep len 26 avg score 4.0 avg_score_100 10.1 std score 7.2\n",
      "episode  89 score 20.2 ep len 31 avg score 4.0 avg_score_100 10.3 std score 7.3\n",
      "episode  90 score 22.0 ep len 35 avg score 4.1 avg_score_100 10.5 std score 7.4\n",
      "episode  91 score 16.8 ep len 29 avg score 4.2 avg_score_100 10.7 std score 7.4\n",
      "episode  92 score 15.5 ep len 25 avg score 4.2 avg_score_100 10.9 std score 7.4\n",
      "episode  93 score 27.6 ep len 38 avg score 4.3 avg_score_100 11.1 std score 7.5\n",
      "episode  94 score 19.2 ep len 31 avg score 4.4 avg_score_100 11.3 std score 7.6\n",
      "episode  95 score 17.2 ep len 28 avg score 4.4 avg_score_100 11.5 std score 7.6\n",
      "episode  96 score 23.3 ep len 36 avg score 4.5 avg_score_100 11.8 std score 7.7\n",
      "episode  97 score 26.4 ep len 36 avg score 4.6 avg_score_100 12.0 std score 7.8\n",
      "episode  98 score 26.6 ep len 37 avg score 4.7 avg_score_100 12.3 std score 7.9\n",
      "episode  99 score 25.7 ep len 39 avg score 4.8 avg_score_100 12.5 std score 8.0\n",
      "episode  100 score 23.1 ep len 33 avg score 4.8 avg_score_100 12.7 std score 8.1\n",
      "episode  101 score 30.2 ep len 41 avg score 4.9 avg_score_100 13.0 std score 8.2\n",
      "episode  102 score 28.9 ep len 38 avg score 5.0 avg_score_100 13.3 std score 8.3\n",
      "episode  103 score 18.9 ep len 32 avg score 5.1 avg_score_100 13.5 std score 8.4\n",
      "episode  104 score 23.8 ep len 38 avg score 5.2 avg_score_100 13.7 std score 8.4\n",
      "episode  105 score 28.3 ep len 39 avg score 5.2 avg_score_100 14.0 std score 8.5\n",
      "episode  106 score 26.8 ep len 36 avg score 5.3 avg_score_100 14.3 std score 8.6\n",
      "episode  107 score 32.7 ep len 42 avg score 5.4 avg_score_100 14.6 std score 8.8\n",
      "episode  108 score 28.3 ep len 38 avg score 5.5 avg_score_100 14.8 std score 8.9\n",
      "episode  109 score 25.7 ep len 41 avg score 5.6 avg_score_100 15.0 std score 8.9\n",
      "episode  110 score 33.6 ep len 49 avg score 5.7 avg_score_100 15.3 std score 9.1\n",
      "episode  111 score 22.0 ep len 33 avg score 5.8 avg_score_100 15.5 std score 9.1\n",
      "episode  112 score 45.5 ep len 134 avg score 5.9 avg_score_100 16.0 std score 9.4\n",
      "episode  113 score 29.7 ep len 93 avg score 6.0 avg_score_100 16.3 std score 9.5\n",
      "episode  114 score 35.2 ep len 86 avg score 6.1 avg_score_100 16.6 std score 9.7\n",
      "episode  115 score 28.6 ep len 46 avg score 6.2 avg_score_100 16.9 std score 9.8\n",
      "episode  116 score 44.8 ep len 73 avg score 6.3 avg_score_100 17.3 std score 10.0\n",
      "episode  117 score 40.6 ep len 69 avg score 6.5 avg_score_100 17.7 std score 10.2\n",
      "episode  118 score 38.5 ep len 62 avg score 6.6 avg_score_100 18.1 std score 10.4\n",
      "episode  119 score 37.3 ep len 56 avg score 6.7 avg_score_100 18.4 std score 10.5\n",
      "episode  120 score 35.1 ep len 75 avg score 6.8 avg_score_100 18.7 std score 10.6\n",
      "episode  121 score 32.6 ep len 62 avg score 6.9 avg_score_100 19.0 std score 10.7\n",
      "episode  122 score 34.3 ep len 70 avg score 7.0 avg_score_100 19.4 std score 10.8\n",
      "episode  123 score 38.0 ep len 70 avg score 7.1 avg_score_100 19.7 std score 11.0\n",
      "episode  124 score 37.6 ep len 74 avg score 7.2 avg_score_100 20.0 std score 11.1\n",
      "episode  125 score 36.2 ep len 56 avg score 7.3 avg_score_100 20.2 std score 11.2\n",
      "episode  126 score 42.1 ep len 61 avg score 7.5 avg_score_100 20.5 std score 11.4\n",
      "episode  127 score 48.1 ep len 74 avg score 7.6 avg_score_100 20.8 std score 11.6\n",
      "episode  128 score 28.2 ep len 63 avg score 7.7 avg_score_100 21.1 std score 11.7\n",
      "episode  129 score 24.2 ep len 52 avg score 7.7 avg_score_100 21.2 std score 11.7\n",
      "episode  130 score 49.0 ep len 68 avg score 7.9 avg_score_100 21.6 std score 11.9\n",
      "episode  131 score 43.3 ep len 72 avg score 8.0 avg_score_100 21.9 std score 12.1\n",
      "episode  132 score 38.7 ep len 63 avg score 8.1 avg_score_100 22.2 std score 12.2\n",
      "episode  133 score 52.0 ep len 69 avg score 8.3 avg_score_100 22.5 std score 12.5\n",
      "episode  134 score 42.9 ep len 79 avg score 8.4 avg_score_100 22.8 std score 12.6\n",
      "episode  135 score 54.9 ep len 82 avg score 8.6 avg_score_100 23.3 std score 12.9\n",
      "episode  136 score 51.5 ep len 69 avg score 8.7 avg_score_100 23.6 std score 13.1\n",
      "episode  137 score 85.7 ep len 200 avg score 9.0 avg_score_100 24.4 std score 13.9\n",
      "episode  138 score 54.2 ep len 76 avg score 9.1 avg_score_100 24.8 std score 14.1\n",
      "episode  139 score 95.9 ep len 179 avg score 9.4 avg_score_100 25.6 std score 15.0\n",
      "episode  140 score 53.4 ep len 77 avg score 9.6 avg_score_100 26.0 std score 15.1\n",
      "episode  141 score 60.4 ep len 88 avg score 9.8 avg_score_100 26.5 std score 15.4\n",
      "episode  142 score 39.7 ep len 65 avg score 9.9 avg_score_100 26.7 std score 15.5\n",
      "episode  143 score 42.3 ep len 200 avg score 10.0 avg_score_100 27.0 std score 15.6\n",
      "episode  144 score 81.2 ep len 200 avg score 10.2 avg_score_100 27.7 std score 16.1\n",
      "episode  145 score 47.2 ep len 70 avg score 10.3 avg_score_100 28.1 std score 16.2\n",
      "episode  146 score 55.9 ep len 200 avg score 10.5 avg_score_100 28.4 std score 16.4\n",
      "episode  147 score 80.5 ep len 178 avg score 10.7 avg_score_100 29.1 std score 16.9\n",
      "episode  148 score 102.6 ep len 178 avg score 11.0 avg_score_100 30.0 std score 17.6\n",
      "episode  149 score 90.9 ep len 200 avg score 11.3 avg_score_100 30.7 std score 18.2\n",
      "episode  150 score 92.0 ep len 197 avg score 11.6 avg_score_100 31.5 std score 18.8\n",
      "episode  151 score 115.2 ep len 200 avg score 11.9 avg_score_100 32.6 std score 19.6\n",
      "episode  152 score 101.9 ep len 195 avg score 12.2 avg_score_100 33.4 std score 20.3\n",
      "episode  153 score 125.5 ep len 200 avg score 12.6 avg_score_100 34.5 std score 21.3\n",
      "episode  154 score 104.0 ep len 200 avg score 12.9 avg_score_100 35.4 std score 21.9\n",
      "episode  155 score 116.2 ep len 200 avg score 13.2 avg_score_100 36.4 std score 22.6\n",
      "episode  156 score 143.4 ep len 200 avg score 13.6 avg_score_100 37.7 std score 23.8\n",
      "episode  157 score 144.5 ep len 200 avg score 14.1 avg_score_100 39.0 std score 24.9\n",
      "episode  158 score 128.3 ep len 200 avg score 14.4 avg_score_100 40.1 std score 25.7\n",
      "episode  159 score 130.6 ep len 200 avg score 14.8 avg_score_100 41.1 std score 26.4\n",
      "episode  160 score 143.7 ep len 200 avg score 15.2 avg_score_100 42.4 std score 27.4\n",
      "episode  161 score 149.9 ep len 200 avg score 15.7 avg_score_100 43.7 std score 28.4\n",
      "episode  162 score 155.5 ep len 200 avg score 16.1 avg_score_100 45.1 std score 29.4\n",
      "episode  163 score 159.0 ep len 200 avg score 16.6 avg_score_100 46.6 std score 30.5\n"
     ]
    },
    {
     "ename": "KeyboardInterrupt",
     "evalue": "",
     "output_type": "error",
     "traceback": [
      "\u001b[0;31m---------------------------------------------------------------------------\u001b[0m",
      "\u001b[0;31mKeyboardInterrupt\u001b[0m                         Traceback (most recent call last)",
      "\u001b[0;32m/tmp/ipykernel_882403/2944040686.py\u001b[0m in \u001b[0;36m?\u001b[0;34m()\u001b[0m\n\u001b[1;32m     11\u001b[0m         \u001b[0mepisode_reward\u001b[0m \u001b[0;34m=\u001b[0m \u001b[0;36m0\u001b[0m\u001b[0;34m\u001b[0m\u001b[0;34m\u001b[0m\u001b[0m\n\u001b[1;32m     12\u001b[0m         \u001b[0mepisode_len\u001b[0m \u001b[0;34m=\u001b[0m \u001b[0;36m0\u001b[0m\u001b[0;34m\u001b[0m\u001b[0;34m\u001b[0m\u001b[0m\n\u001b[1;32m     13\u001b[0m \u001b[0;34m\u001b[0m\u001b[0m\n\u001b[1;32m     14\u001b[0m         \u001b[0;32mwhile\u001b[0m \u001b[0;34m(\u001b[0m\u001b[0;32mnot\u001b[0m \u001b[0mdone\u001b[0m\u001b[0;34m)\u001b[0m \u001b[0;32mand\u001b[0m \u001b[0;34m(\u001b[0m\u001b[0;32mnot\u001b[0m \u001b[0mtruncated\u001b[0m\u001b[0;34m)\u001b[0m\u001b[0;34m:\u001b[0m\u001b[0;34m\u001b[0m\u001b[0;34m\u001b[0m\u001b[0m\n\u001b[0;32m---> 15\u001b[0;31m             \u001b[0maction\u001b[0m \u001b[0;34m=\u001b[0m \u001b[0magent\u001b[0m\u001b[0;34m.\u001b[0m\u001b[0mchoose_action\u001b[0m\u001b[0;34m(\u001b[0m\u001b[0mobservation\u001b[0m\u001b[0;34m)\u001b[0m\u001b[0;34m\u001b[0m\u001b[0;34m\u001b[0m\u001b[0m\n\u001b[0m\u001b[1;32m     16\u001b[0m \u001b[0;34m\u001b[0m\u001b[0m\n\u001b[1;32m     17\u001b[0m             \u001b[0mnew_observation\u001b[0m\u001b[0;34m,\u001b[0m \u001b[0mreward\u001b[0m\u001b[0;34m,\u001b[0m \u001b[0mdone\u001b[0m\u001b[0;34m,\u001b[0m \u001b[0mtruncated\u001b[0m\u001b[0;34m,\u001b[0m \u001b[0mnew_info\u001b[0m \u001b[0;34m=\u001b[0m \u001b[0menv\u001b[0m\u001b[0;34m.\u001b[0m\u001b[0mstep\u001b[0m\u001b[0;34m(\u001b[0m\u001b[0maction\u001b[0m\u001b[0;34m=\u001b[0m\u001b[0maction\u001b[0m\u001b[0;34m)\u001b[0m\u001b[0;34m\u001b[0m\u001b[0;34m\u001b[0m\u001b[0m\n\u001b[1;32m     18\u001b[0m             \u001b[0mproc\u001b[0m\u001b[0;34m.\u001b[0m\u001b[0mupdate_input\u001b[0m\u001b[0;34m(\u001b[0m\u001b[0mnew_observation\u001b[0m\u001b[0;34m,\u001b[0m \u001b[0minfo\u001b[0m\u001b[0;34m)\u001b[0m\u001b[0;34m\u001b[0m\u001b[0;34m\u001b[0m\u001b[0m\n",
      "\u001b[0;32m~/Documents/thesis/two_acts/SAC/sac.py\u001b[0m in \u001b[0;36m?\u001b[0;34m(self, observation)\u001b[0m\n\u001b[1;32m    141\u001b[0m     \u001b[0;32mdef\u001b[0m \u001b[0mchoose_action\u001b[0m\u001b[0;34m(\u001b[0m\u001b[0mself\u001b[0m\u001b[0;34m,\u001b[0m \u001b[0mobservation\u001b[0m\u001b[0;34m)\u001b[0m\u001b[0;34m:\u001b[0m\u001b[0;34m\u001b[0m\u001b[0;34m\u001b[0m\u001b[0m\n\u001b[1;32m    142\u001b[0m         \u001b[0mstate\u001b[0m \u001b[0;34m=\u001b[0m \u001b[0mtf\u001b[0m\u001b[0;34m.\u001b[0m\u001b[0mconvert_to_tensor\u001b[0m\u001b[0;34m(\u001b[0m\u001b[0;34m[\u001b[0m\u001b[0mobservation\u001b[0m\u001b[0;34m]\u001b[0m\u001b[0;34m)\u001b[0m\u001b[0;34m\u001b[0m\u001b[0;34m\u001b[0m\u001b[0m\n\u001b[0;32m--> 143\u001b[0;31m         \u001b[0mactions\u001b[0m\u001b[0;34m,\u001b[0m \u001b[0m_\u001b[0m \u001b[0;34m=\u001b[0m \u001b[0mself\u001b[0m\u001b[0;34m.\u001b[0m\u001b[0mactor\u001b[0m\u001b[0;34m.\u001b[0m\u001b[0msample_normal\u001b[0m\u001b[0;34m(\u001b[0m\u001b[0mstate\u001b[0m\u001b[0;34m,\u001b[0m \u001b[0mreparameterize\u001b[0m\u001b[0;34m=\u001b[0m\u001b[0;32mFalse\u001b[0m\u001b[0;34m)\u001b[0m\u001b[0;34m\u001b[0m\u001b[0;34m\u001b[0m\u001b[0m\n\u001b[0m\u001b[1;32m    144\u001b[0m \u001b[0;34m\u001b[0m\u001b[0m\n\u001b[1;32m    145\u001b[0m         \u001b[0;32mreturn\u001b[0m \u001b[0mactions\u001b[0m\u001b[0;34m[\u001b[0m\u001b[0;36m0\u001b[0m\u001b[0;34m]\u001b[0m\u001b[0;34m\u001b[0m\u001b[0;34m\u001b[0m\u001b[0m\n",
      "\u001b[0;32m~/Documents/thesis/two_acts/SAC/sac.py\u001b[0m in \u001b[0;36m?\u001b[0;34m(self, state, reparameterize)\u001b[0m\n\u001b[1;32m    102\u001b[0m         \u001b[0;32melse\u001b[0m\u001b[0;34m:\u001b[0m\u001b[0;34m\u001b[0m\u001b[0;34m\u001b[0m\u001b[0m\n\u001b[1;32m    103\u001b[0m             \u001b[0mactions\u001b[0m \u001b[0;34m=\u001b[0m \u001b[0mprobabilities\u001b[0m\u001b[0;34m.\u001b[0m\u001b[0msample\u001b[0m\u001b[0;34m(\u001b[0m\u001b[0;34m)\u001b[0m\u001b[0;34m\u001b[0m\u001b[0;34m\u001b[0m\u001b[0m\n\u001b[1;32m    104\u001b[0m \u001b[0;34m\u001b[0m\u001b[0m\n\u001b[1;32m    105\u001b[0m         \u001b[0maction\u001b[0m \u001b[0;34m=\u001b[0m \u001b[0mtf\u001b[0m\u001b[0;34m.\u001b[0m\u001b[0mmath\u001b[0m\u001b[0;34m.\u001b[0m\u001b[0mtanh\u001b[0m\u001b[0;34m(\u001b[0m\u001b[0mactions\u001b[0m\u001b[0;34m)\u001b[0m\u001b[0;34m*\u001b[0m\u001b[0mself\u001b[0m\u001b[0;34m.\u001b[0m\u001b[0mmax_action\u001b[0m\u001b[0;34m\u001b[0m\u001b[0;34m\u001b[0m\u001b[0m\n\u001b[0;32m--> 106\u001b[0;31m         \u001b[0mlog_probs\u001b[0m \u001b[0;34m=\u001b[0m \u001b[0mprobabilities\u001b[0m\u001b[0;34m.\u001b[0m\u001b[0mlog_prob\u001b[0m\u001b[0;34m(\u001b[0m\u001b[0mactions\u001b[0m\u001b[0;34m)\u001b[0m\u001b[0;34m\u001b[0m\u001b[0;34m\u001b[0m\u001b[0m\n\u001b[0m\u001b[1;32m    107\u001b[0m         \u001b[0mlog_probs\u001b[0m \u001b[0;34m-=\u001b[0m \u001b[0mtf\u001b[0m\u001b[0;34m.\u001b[0m\u001b[0mmath\u001b[0m\u001b[0;34m.\u001b[0m\u001b[0mlog\u001b[0m\u001b[0;34m(\u001b[0m\u001b[0;36m1\u001b[0m \u001b[0;34m-\u001b[0m \u001b[0mtf\u001b[0m\u001b[0;34m.\u001b[0m\u001b[0mmath\u001b[0m\u001b[0;34m.\u001b[0m\u001b[0mpow\u001b[0m\u001b[0;34m(\u001b[0m\u001b[0maction\u001b[0m\u001b[0;34m,\u001b[0m\u001b[0;36m2\u001b[0m\u001b[0;34m)\u001b[0m\u001b[0;34m+\u001b[0m\u001b[0mself\u001b[0m\u001b[0;34m.\u001b[0m\u001b[0mnoise\u001b[0m\u001b[0;34m)\u001b[0m\u001b[0;34m\u001b[0m\u001b[0;34m\u001b[0m\u001b[0m\n\u001b[1;32m    108\u001b[0m         \u001b[0mlog_probs\u001b[0m \u001b[0;34m=\u001b[0m \u001b[0mtf\u001b[0m\u001b[0;34m.\u001b[0m\u001b[0mmath\u001b[0m\u001b[0;34m.\u001b[0m\u001b[0mreduce_sum\u001b[0m\u001b[0;34m(\u001b[0m\u001b[0mlog_probs\u001b[0m\u001b[0;34m,\u001b[0m \u001b[0maxis\u001b[0m\u001b[0;34m=\u001b[0m\u001b[0;36m1\u001b[0m\u001b[0;34m,\u001b[0m \u001b[0mkeepdims\u001b[0m\u001b[0;34m=\u001b[0m\u001b[0;32mTrue\u001b[0m\u001b[0;34m)\u001b[0m\u001b[0;34m\u001b[0m\u001b[0;34m\u001b[0m\u001b[0m\n\u001b[1;32m    109\u001b[0m \u001b[0;34m\u001b[0m\u001b[0m\n",
      "\u001b[0;32m~/.pyenv/versions/3.10.13/lib/python3.10/site-packages/tensorflow_probability/python/distributions/distribution.py\u001b[0m in \u001b[0;36m?\u001b[0;34m(self, value, name, **kwargs)\u001b[0m\n\u001b[1;32m   1283\u001b[0m     \u001b[0mReturns\u001b[0m\u001b[0;34m:\u001b[0m\u001b[0;34m\u001b[0m\u001b[0;34m\u001b[0m\u001b[0m\n\u001b[1;32m   1284\u001b[0m       \u001b[0mlog_prob\u001b[0m\u001b[0;34m:\u001b[0m \u001b[0ma\u001b[0m\u001b[0;31m \u001b[0m\u001b[0;31m`\u001b[0m\u001b[0mTensor\u001b[0m\u001b[0;31m`\u001b[0m \u001b[0mof\u001b[0m \u001b[0mshape\u001b[0m\u001b[0;31m \u001b[0m\u001b[0;31m`\u001b[0m\u001b[0msample_shape\u001b[0m\u001b[0;34m(\u001b[0m\u001b[0mx\u001b[0m\u001b[0;34m)\u001b[0m \u001b[0;34m+\u001b[0m \u001b[0mself\u001b[0m\u001b[0;34m.\u001b[0m\u001b[0mbatch_shape\u001b[0m\u001b[0;31m`\u001b[0m \u001b[0;32mwith\u001b[0m\u001b[0;34m\u001b[0m\u001b[0;34m\u001b[0m\u001b[0m\n\u001b[1;32m   1285\u001b[0m         \u001b[0mvalues\u001b[0m \u001b[0mof\u001b[0m \u001b[0mtype\u001b[0m\u001b[0;31m \u001b[0m\u001b[0;31m`\u001b[0m\u001b[0mself\u001b[0m\u001b[0;34m.\u001b[0m\u001b[0mdtype\u001b[0m\u001b[0;31m`\u001b[0m\u001b[0;34m.\u001b[0m\u001b[0;34m\u001b[0m\u001b[0;34m\u001b[0m\u001b[0m\n\u001b[1;32m   1286\u001b[0m     \"\"\"\n\u001b[0;32m-> 1287\u001b[0;31m     \u001b[0;32mreturn\u001b[0m \u001b[0mself\u001b[0m\u001b[0;34m.\u001b[0m\u001b[0m_call_log_prob\u001b[0m\u001b[0;34m(\u001b[0m\u001b[0mvalue\u001b[0m\u001b[0;34m,\u001b[0m \u001b[0mname\u001b[0m\u001b[0;34m,\u001b[0m \u001b[0;34m**\u001b[0m\u001b[0mkwargs\u001b[0m\u001b[0;34m)\u001b[0m\u001b[0;34m\u001b[0m\u001b[0;34m\u001b[0m\u001b[0m\n\u001b[0m",
      "\u001b[0;32m~/.pyenv/versions/3.10.13/lib/python3.10/site-packages/tensorflow_probability/python/distributions/distribution.py\u001b[0m in \u001b[0;36m?\u001b[0;34m(self, value, name, **kwargs)\u001b[0m\n\u001b[1;32m   1265\u001b[0m         \u001b[0mvalue\u001b[0m\u001b[0;34m,\u001b[0m \u001b[0mname\u001b[0m\u001b[0;34m=\u001b[0m\u001b[0;34m'value'\u001b[0m\u001b[0;34m,\u001b[0m \u001b[0mdtype_hint\u001b[0m\u001b[0;34m=\u001b[0m\u001b[0mself\u001b[0m\u001b[0;34m.\u001b[0m\u001b[0mdtype\u001b[0m\u001b[0;34m,\u001b[0m\u001b[0;34m\u001b[0m\u001b[0;34m\u001b[0m\u001b[0m\n\u001b[1;32m   1266\u001b[0m         allow_packing=True)\n\u001b[1;32m   1267\u001b[0m     \u001b[0;32mwith\u001b[0m \u001b[0mself\u001b[0m\u001b[0;34m.\u001b[0m\u001b[0m_name_and_control_scope\u001b[0m\u001b[0;34m(\u001b[0m\u001b[0mname\u001b[0m\u001b[0;34m,\u001b[0m \u001b[0mvalue\u001b[0m\u001b[0;34m,\u001b[0m \u001b[0mkwargs\u001b[0m\u001b[0;34m)\u001b[0m\u001b[0;34m:\u001b[0m\u001b[0;34m\u001b[0m\u001b[0;34m\u001b[0m\u001b[0m\n\u001b[1;32m   1268\u001b[0m       \u001b[0;32mif\u001b[0m \u001b[0mhasattr\u001b[0m\u001b[0;34m(\u001b[0m\u001b[0mself\u001b[0m\u001b[0;34m,\u001b[0m \u001b[0;34m'_log_prob'\u001b[0m\u001b[0;34m)\u001b[0m\u001b[0;34m:\u001b[0m\u001b[0;34m\u001b[0m\u001b[0;34m\u001b[0m\u001b[0m\n\u001b[0;32m-> 1269\u001b[0;31m         \u001b[0;32mreturn\u001b[0m \u001b[0mself\u001b[0m\u001b[0;34m.\u001b[0m\u001b[0m_log_prob\u001b[0m\u001b[0;34m(\u001b[0m\u001b[0mvalue\u001b[0m\u001b[0;34m,\u001b[0m \u001b[0;34m**\u001b[0m\u001b[0mkwargs\u001b[0m\u001b[0;34m)\u001b[0m\u001b[0;34m\u001b[0m\u001b[0;34m\u001b[0m\u001b[0m\n\u001b[0m\u001b[1;32m   1270\u001b[0m       \u001b[0;32mif\u001b[0m \u001b[0mhasattr\u001b[0m\u001b[0;34m(\u001b[0m\u001b[0mself\u001b[0m\u001b[0;34m,\u001b[0m \u001b[0;34m'_prob'\u001b[0m\u001b[0;34m)\u001b[0m\u001b[0;34m:\u001b[0m\u001b[0;34m\u001b[0m\u001b[0;34m\u001b[0m\u001b[0m\n\u001b[1;32m   1271\u001b[0m         \u001b[0;32mreturn\u001b[0m \u001b[0mtf\u001b[0m\u001b[0;34m.\u001b[0m\u001b[0mmath\u001b[0m\u001b[0;34m.\u001b[0m\u001b[0mlog\u001b[0m\u001b[0;34m(\u001b[0m\u001b[0mself\u001b[0m\u001b[0;34m.\u001b[0m\u001b[0m_prob\u001b[0m\u001b[0;34m(\u001b[0m\u001b[0mvalue\u001b[0m\u001b[0;34m,\u001b[0m \u001b[0;34m**\u001b[0m\u001b[0mkwargs\u001b[0m\u001b[0;34m)\u001b[0m\u001b[0;34m)\u001b[0m\u001b[0;34m\u001b[0m\u001b[0;34m\u001b[0m\u001b[0m\n\u001b[1;32m   1272\u001b[0m       raise NotImplementedError('log_prob is not implemented: {}'.format(\n",
      "\u001b[0;32m~/.pyenv/versions/3.10.13/lib/python3.10/site-packages/tensorflow_probability/python/distributions/normal.py\u001b[0m in \u001b[0;36m?\u001b[0;34m(self, x)\u001b[0m\n\u001b[1;32m    183\u001b[0m   \u001b[0;32mdef\u001b[0m \u001b[0m_log_prob\u001b[0m\u001b[0;34m(\u001b[0m\u001b[0mself\u001b[0m\u001b[0;34m,\u001b[0m \u001b[0mx\u001b[0m\u001b[0;34m)\u001b[0m\u001b[0;34m:\u001b[0m\u001b[0;34m\u001b[0m\u001b[0;34m\u001b[0m\u001b[0m\n\u001b[1;32m    184\u001b[0m     \u001b[0mscale\u001b[0m \u001b[0;34m=\u001b[0m \u001b[0mtf\u001b[0m\u001b[0;34m.\u001b[0m\u001b[0mconvert_to_tensor\u001b[0m\u001b[0;34m(\u001b[0m\u001b[0mself\u001b[0m\u001b[0;34m.\u001b[0m\u001b[0mscale\u001b[0m\u001b[0;34m)\u001b[0m\u001b[0;34m\u001b[0m\u001b[0;34m\u001b[0m\u001b[0m\n\u001b[1;32m    185\u001b[0m     log_unnormalized = -0.5 * tf.math.squared_difference(\n\u001b[0;32m--> 186\u001b[0;31m         x / scale, self.loc / scale)\n\u001b[0m\u001b[1;32m    187\u001b[0m     log_normalization = tf.constant(\n\u001b[1;32m    188\u001b[0m         0.5 * np.log(2. * np.pi), dtype=self.dtype) + tf.math.log(scale)\n\u001b[1;32m    189\u001b[0m     \u001b[0;32mreturn\u001b[0m \u001b[0mlog_unnormalized\u001b[0m \u001b[0;34m-\u001b[0m \u001b[0mlog_normalization\u001b[0m\u001b[0;34m\u001b[0m\u001b[0;34m\u001b[0m\u001b[0m\n",
      "\u001b[0;32m~/.pyenv/versions/3.10.13/lib/python3.10/site-packages/tensorflow/python/util/traceback_utils.py\u001b[0m in \u001b[0;36m?\u001b[0;34m(*args, **kwargs)\u001b[0m\n\u001b[1;32m    151\u001b[0m     \u001b[0;32mexcept\u001b[0m \u001b[0mException\u001b[0m \u001b[0;32mas\u001b[0m \u001b[0me\u001b[0m\u001b[0;34m:\u001b[0m\u001b[0;34m\u001b[0m\u001b[0;34m\u001b[0m\u001b[0m\n\u001b[1;32m    152\u001b[0m       \u001b[0mfiltered_tb\u001b[0m \u001b[0;34m=\u001b[0m \u001b[0m_process_traceback_frames\u001b[0m\u001b[0;34m(\u001b[0m\u001b[0me\u001b[0m\u001b[0;34m.\u001b[0m\u001b[0m__traceback__\u001b[0m\u001b[0;34m)\u001b[0m\u001b[0;34m\u001b[0m\u001b[0;34m\u001b[0m\u001b[0m\n\u001b[1;32m    153\u001b[0m       \u001b[0;32mraise\u001b[0m \u001b[0me\u001b[0m\u001b[0;34m.\u001b[0m\u001b[0mwith_traceback\u001b[0m\u001b[0;34m(\u001b[0m\u001b[0mfiltered_tb\u001b[0m\u001b[0;34m)\u001b[0m \u001b[0;32mfrom\u001b[0m \u001b[0;32mNone\u001b[0m\u001b[0;34m\u001b[0m\u001b[0;34m\u001b[0m\u001b[0m\n\u001b[1;32m    154\u001b[0m     \u001b[0;32mfinally\u001b[0m\u001b[0;34m:\u001b[0m\u001b[0;34m\u001b[0m\u001b[0;34m\u001b[0m\u001b[0m\n\u001b[0;32m--> 155\u001b[0;31m       \u001b[0;32mdel\u001b[0m \u001b[0mfiltered_tb\u001b[0m\u001b[0;34m\u001b[0m\u001b[0;34m\u001b[0m\u001b[0m\n\u001b[0m",
      "\u001b[0;32m~/.pyenv/versions/3.10.13/lib/python3.10/site-packages/tensorflow/python/ops/math_ops.py\u001b[0m in \u001b[0;36m?\u001b[0;34m(x, y)\u001b[0m\n\u001b[1;32m   1474\u001b[0m         \u001b[0;31m# TODO(b/178860388): Figure out why binary_op_wrapper and\u001b[0m\u001b[0;34m\u001b[0m\u001b[0;34m\u001b[0m\u001b[0m\n\u001b[1;32m   1475\u001b[0m         \u001b[0;31m#   r_binary_op_wrapper use different force_same_dtype values.\u001b[0m\u001b[0;34m\u001b[0m\u001b[0;34m\u001b[0m\u001b[0m\n\u001b[1;32m   1476\u001b[0m         \u001b[0mx\u001b[0m\u001b[0;34m,\u001b[0m \u001b[0my\u001b[0m \u001b[0;34m=\u001b[0m \u001b[0mmaybe_promote_tensors\u001b[0m\u001b[0;34m(\u001b[0m\u001b[0mx\u001b[0m\u001b[0;34m,\u001b[0m \u001b[0my\u001b[0m\u001b[0;34m)\u001b[0m\u001b[0;34m\u001b[0m\u001b[0;34m\u001b[0m\u001b[0m\n\u001b[1;32m   1477\u001b[0m         \u001b[0;32mreturn\u001b[0m \u001b[0mfunc\u001b[0m\u001b[0;34m(\u001b[0m\u001b[0mx\u001b[0m\u001b[0;34m,\u001b[0m \u001b[0my\u001b[0m\u001b[0;34m,\u001b[0m \u001b[0mname\u001b[0m\u001b[0;34m=\u001b[0m\u001b[0mname\u001b[0m\u001b[0;34m)\u001b[0m\u001b[0;34m\u001b[0m\u001b[0;34m\u001b[0m\u001b[0m\n\u001b[0;32m-> 1478\u001b[0;31m       \u001b[0;32mexcept\u001b[0m \u001b[0;34m(\u001b[0m\u001b[0mTypeError\u001b[0m\u001b[0;34m,\u001b[0m \u001b[0mValueError\u001b[0m\u001b[0;34m)\u001b[0m \u001b[0;32mas\u001b[0m \u001b[0me\u001b[0m\u001b[0;34m:\u001b[0m\u001b[0;34m\u001b[0m\u001b[0;34m\u001b[0m\u001b[0m\n\u001b[0m\u001b[1;32m   1479\u001b[0m         \u001b[0;31m# Even if dispatching the op failed, the RHS may be a tensor aware\u001b[0m\u001b[0;34m\u001b[0m\u001b[0;34m\u001b[0m\u001b[0m\n\u001b[1;32m   1480\u001b[0m         \u001b[0;31m# object that can implement the operator with knowledge of itself\u001b[0m\u001b[0;34m\u001b[0m\u001b[0;34m\u001b[0m\u001b[0m\n\u001b[1;32m   1481\u001b[0m         \u001b[0;31m# and the tensor.\u001b[0m\u001b[0;34m\u001b[0m\u001b[0;34m\u001b[0m\u001b[0m\n",
      "\u001b[0;32m~/.pyenv/versions/3.10.13/lib/python3.10/site-packages/tensorflow/python/util/traceback_utils.py\u001b[0m in \u001b[0;36m?\u001b[0;34m(*args, **kwargs)\u001b[0m\n\u001b[1;32m    151\u001b[0m     \u001b[0;32mexcept\u001b[0m \u001b[0mException\u001b[0m \u001b[0;32mas\u001b[0m \u001b[0me\u001b[0m\u001b[0;34m:\u001b[0m\u001b[0;34m\u001b[0m\u001b[0;34m\u001b[0m\u001b[0m\n\u001b[1;32m    152\u001b[0m       \u001b[0mfiltered_tb\u001b[0m \u001b[0;34m=\u001b[0m \u001b[0m_process_traceback_frames\u001b[0m\u001b[0;34m(\u001b[0m\u001b[0me\u001b[0m\u001b[0;34m.\u001b[0m\u001b[0m__traceback__\u001b[0m\u001b[0;34m)\u001b[0m\u001b[0;34m\u001b[0m\u001b[0;34m\u001b[0m\u001b[0m\n\u001b[1;32m    153\u001b[0m       \u001b[0;32mraise\u001b[0m \u001b[0me\u001b[0m\u001b[0;34m.\u001b[0m\u001b[0mwith_traceback\u001b[0m\u001b[0;34m(\u001b[0m\u001b[0mfiltered_tb\u001b[0m\u001b[0;34m)\u001b[0m \u001b[0;32mfrom\u001b[0m \u001b[0;32mNone\u001b[0m\u001b[0;34m\u001b[0m\u001b[0;34m\u001b[0m\u001b[0m\n\u001b[1;32m    154\u001b[0m     \u001b[0;32mfinally\u001b[0m\u001b[0;34m:\u001b[0m\u001b[0;34m\u001b[0m\u001b[0;34m\u001b[0m\u001b[0m\n\u001b[0;32m--> 155\u001b[0;31m       \u001b[0;32mdel\u001b[0m \u001b[0mfiltered_tb\u001b[0m\u001b[0;34m\u001b[0m\u001b[0;34m\u001b[0m\u001b[0m\n\u001b[0m",
      "\u001b[0;32m~/.pyenv/versions/3.10.13/lib/python3.10/site-packages/tensorflow/python/util/dispatch.py\u001b[0m in \u001b[0;36m?\u001b[0;34m(*args, **kwargs)\u001b[0m\n\u001b[1;32m   1257\u001b[0m \u001b[0;34m\u001b[0m\u001b[0m\n\u001b[1;32m   1258\u001b[0m       \u001b[0;31m# Fallback dispatch system (dispatch v1):\u001b[0m\u001b[0;34m\u001b[0m\u001b[0;34m\u001b[0m\u001b[0m\n\u001b[1;32m   1259\u001b[0m       \u001b[0;32mtry\u001b[0m\u001b[0;34m:\u001b[0m\u001b[0;34m\u001b[0m\u001b[0;34m\u001b[0m\u001b[0m\n\u001b[1;32m   1260\u001b[0m         \u001b[0;32mreturn\u001b[0m \u001b[0mdispatch_target\u001b[0m\u001b[0;34m(\u001b[0m\u001b[0;34m*\u001b[0m\u001b[0margs\u001b[0m\u001b[0;34m,\u001b[0m \u001b[0;34m**\u001b[0m\u001b[0mkwargs\u001b[0m\u001b[0;34m)\u001b[0m\u001b[0;34m\u001b[0m\u001b[0;34m\u001b[0m\u001b[0m\n\u001b[0;32m-> 1261\u001b[0;31m       \u001b[0;32mexcept\u001b[0m \u001b[0;34m(\u001b[0m\u001b[0mTypeError\u001b[0m\u001b[0;34m,\u001b[0m \u001b[0mValueError\u001b[0m\u001b[0;34m)\u001b[0m\u001b[0;34m:\u001b[0m\u001b[0;34m\u001b[0m\u001b[0;34m\u001b[0m\u001b[0m\n\u001b[0m\u001b[1;32m   1262\u001b[0m         \u001b[0;31m# Note: convert_to_eager_tensor currently raises a ValueError, not a\u001b[0m\u001b[0;34m\u001b[0m\u001b[0;34m\u001b[0m\u001b[0m\n\u001b[1;32m   1263\u001b[0m         \u001b[0;31m# TypeError, when given unexpected types.  So we need to catch both.\u001b[0m\u001b[0;34m\u001b[0m\u001b[0;34m\u001b[0m\u001b[0m\n\u001b[1;32m   1264\u001b[0m         \u001b[0mresult\u001b[0m \u001b[0;34m=\u001b[0m \u001b[0mdispatch\u001b[0m\u001b[0;34m(\u001b[0m\u001b[0mop_dispatch_handler\u001b[0m\u001b[0;34m,\u001b[0m \u001b[0margs\u001b[0m\u001b[0;34m,\u001b[0m \u001b[0mkwargs\u001b[0m\u001b[0;34m)\u001b[0m\u001b[0;34m\u001b[0m\u001b[0;34m\u001b[0m\u001b[0m\n",
      "\u001b[0;32m~/.pyenv/versions/3.10.13/lib/python3.10/site-packages/tensorflow/python/ops/math_ops.py\u001b[0m in \u001b[0;36m?\u001b[0;34m(x, y, name)\u001b[0m\n\u001b[1;32m   1656\u001b[0m \u001b[0;34m\u001b[0m\u001b[0m\n\u001b[1;32m   1657\u001b[0m   \u001b[0mRaises\u001b[0m\u001b[0;34m:\u001b[0m\u001b[0;34m\u001b[0m\u001b[0;34m\u001b[0m\u001b[0m\n\u001b[1;32m   1658\u001b[0m     \u001b[0mTypeError\u001b[0m\u001b[0;34m:\u001b[0m \u001b[0mIf\u001b[0m\u001b[0;31m \u001b[0m\u001b[0;31m`\u001b[0m\u001b[0mx\u001b[0m\u001b[0;31m`\u001b[0m \u001b[0;32mand\u001b[0m\u001b[0;31m \u001b[0m\u001b[0;31m`\u001b[0m\u001b[0my\u001b[0m\u001b[0;31m`\u001b[0m \u001b[0mhave\u001b[0m \u001b[0mdifferent\u001b[0m \u001b[0mdtypes\u001b[0m\u001b[0;34m.\u001b[0m\u001b[0;34m\u001b[0m\u001b[0;34m\u001b[0m\u001b[0m\n\u001b[1;32m   1659\u001b[0m   \"\"\"\n\u001b[0;32m-> 1660\u001b[0;31m   \u001b[0;32mreturn\u001b[0m \u001b[0m_truediv_python3\u001b[0m\u001b[0;34m(\u001b[0m\u001b[0mx\u001b[0m\u001b[0;34m,\u001b[0m \u001b[0my\u001b[0m\u001b[0;34m,\u001b[0m \u001b[0mname\u001b[0m\u001b[0;34m)\u001b[0m\u001b[0;34m\u001b[0m\u001b[0;34m\u001b[0m\u001b[0m\n\u001b[0m",
      "\u001b[0;32m~/.pyenv/versions/3.10.13/lib/python3.10/site-packages/tensorflow/python/ops/math_ops.py\u001b[0m in \u001b[0;36m?\u001b[0;34m(x, y, name)\u001b[0m\n\u001b[1;32m   1594\u001b[0m           f\"of {{{', '.join([repr(x) for x in _TRUEDIV_TABLE.keys()])}}}.\")\n\u001b[1;32m   1595\u001b[0m     \u001b[0;32mif\u001b[0m \u001b[0mdtype\u001b[0m \u001b[0;32mis\u001b[0m \u001b[0;32mnot\u001b[0m \u001b[0;32mNone\u001b[0m\u001b[0;34m:\u001b[0m\u001b[0;34m\u001b[0m\u001b[0;34m\u001b[0m\u001b[0m\n\u001b[1;32m   1596\u001b[0m       \u001b[0mx\u001b[0m \u001b[0;34m=\u001b[0m \u001b[0mcast\u001b[0m\u001b[0;34m(\u001b[0m\u001b[0mx\u001b[0m\u001b[0;34m,\u001b[0m \u001b[0mdtype\u001b[0m\u001b[0;34m)\u001b[0m\u001b[0;34m\u001b[0m\u001b[0;34m\u001b[0m\u001b[0m\n\u001b[1;32m   1597\u001b[0m       \u001b[0my\u001b[0m \u001b[0;34m=\u001b[0m \u001b[0mcast\u001b[0m\u001b[0;34m(\u001b[0m\u001b[0my\u001b[0m\u001b[0;34m,\u001b[0m \u001b[0mdtype\u001b[0m\u001b[0;34m)\u001b[0m\u001b[0;34m\u001b[0m\u001b[0;34m\u001b[0m\u001b[0m\n\u001b[0;32m-> 1598\u001b[0;31m     \u001b[0;32mreturn\u001b[0m \u001b[0mgen_math_ops\u001b[0m\u001b[0;34m.\u001b[0m\u001b[0mreal_div\u001b[0m\u001b[0;34m(\u001b[0m\u001b[0mx\u001b[0m\u001b[0;34m,\u001b[0m \u001b[0my\u001b[0m\u001b[0;34m,\u001b[0m \u001b[0mname\u001b[0m\u001b[0;34m=\u001b[0m\u001b[0mname\u001b[0m\u001b[0;34m)\u001b[0m\u001b[0;34m\u001b[0m\u001b[0;34m\u001b[0m\u001b[0m\n\u001b[0m",
      "\u001b[0;32m~/.pyenv/versions/3.10.13/lib/python3.10/site-packages/tensorflow/python/ops/gen_math_ops.py\u001b[0m in \u001b[0;36m?\u001b[0;34m(x, y, name)\u001b[0m\n\u001b[1;32m   8089\u001b[0m         _ctx, \"RealDiv\", name, x, y)\n\u001b[1;32m   8090\u001b[0m       \u001b[0;32mreturn\u001b[0m \u001b[0m_result\u001b[0m\u001b[0;34m\u001b[0m\u001b[0;34m\u001b[0m\u001b[0m\n\u001b[1;32m   8091\u001b[0m     \u001b[0;32mexcept\u001b[0m \u001b[0m_core\u001b[0m\u001b[0;34m.\u001b[0m\u001b[0m_NotOkStatusException\u001b[0m \u001b[0;32mas\u001b[0m \u001b[0me\u001b[0m\u001b[0;34m:\u001b[0m\u001b[0;34m\u001b[0m\u001b[0;34m\u001b[0m\u001b[0m\n\u001b[1;32m   8092\u001b[0m       \u001b[0m_ops\u001b[0m\u001b[0;34m.\u001b[0m\u001b[0mraise_from_not_ok_status\u001b[0m\u001b[0;34m(\u001b[0m\u001b[0me\u001b[0m\u001b[0;34m,\u001b[0m \u001b[0mname\u001b[0m\u001b[0;34m)\u001b[0m\u001b[0;34m\u001b[0m\u001b[0;34m\u001b[0m\u001b[0m\n\u001b[0;32m-> 8093\u001b[0;31m     \u001b[0;32mexcept\u001b[0m \u001b[0m_core\u001b[0m\u001b[0;34m.\u001b[0m\u001b[0m_FallbackException\u001b[0m\u001b[0;34m:\u001b[0m\u001b[0;34m\u001b[0m\u001b[0;34m\u001b[0m\u001b[0m\n\u001b[0m\u001b[1;32m   8094\u001b[0m       \u001b[0;32mpass\u001b[0m\u001b[0;34m\u001b[0m\u001b[0;34m\u001b[0m\u001b[0m\n\u001b[1;32m   8095\u001b[0m     \u001b[0;32mtry\u001b[0m\u001b[0;34m:\u001b[0m\u001b[0;34m\u001b[0m\u001b[0;34m\u001b[0m\u001b[0m\n\u001b[1;32m   8096\u001b[0m       _result = _dispatcher_for_real_div(\n",
      "\u001b[0;31mKeyboardInterrupt\u001b[0m: "
     ]
    }
   ],
   "source": [
    "# main loop\n",
    "for episode in trange(500, desc='Test episodes'):\n",
    "\n",
    "        proc.reset()        \n",
    "        (observation, info), done = env.reset(), False\n",
    "        truncated = False\n",
    "        \n",
    "        proc.update_input(observation, info)\n",
    "        observation = proc.get_input()\n",
    "\n",
    "        episode_reward = 0\n",
    "        episode_len = 0\n",
    "\n",
    "        while (not done) and (not truncated):\n",
    "            action = agent.choose_action(observation)\n",
    "\n",
    "            new_observation, reward, done, truncated, new_info = env.step(action=action)\n",
    "            proc.update_input(new_observation, info)\n",
    "            new_observation = proc.get_input()\n",
    "\n",
    "            episode_reward += reward # type: ignore\n",
    "            episode_len +=1\n",
    "\n",
    "            if new_info[\"rewards\"][\"on_road_reward\"] == False or episode_len >= 200:\n",
    "                truncated = True\n",
    "\n",
    "            agent.remember(state=observation, action=action, done=done,\n",
    "                            reward=reward, new_state=new_observation)\n",
    "            agent.learn()\n",
    "\n",
    "            observation = new_observation\n",
    "\n",
    "        episode_lens.append(episode_len)\n",
    "\n",
    "        score_history.append(episode_reward)\n",
    "        avg_score = np.mean(score_history)\n",
    "        avg_history.append(avg_score)\n",
    "        std_score = np.std(score_history)\n",
    "        std_history.append(std_score)\n",
    "\n",
    "        avg_score_100 = np.mean(score_history[-100:])\n",
    "        avg_history_100.append(avg_score_100)\n",
    "\n",
    "        if avg_score_100 > best_score:\n",
    "            best_score = avg_score\n",
    "            agent.save_models(episode)\n",
    "\n",
    "        agent.tensorboard.update_stats(episode_rew = episode_reward, \n",
    "                                       average_rew =avg_score,\n",
    "                                       average_100_reward = avg_score_100,\n",
    "                                       std_rew=std_score, \n",
    "                                       episode_len = episode_len)\n",
    "\n",
    "        print('episode ', episode, 'score %.1f' % episode_reward, 'ep len', episode_len,\n",
    "              'avg score %.1f' % avg_score, 'avg_score_100 %.1f' %avg_score_100,'std score %.1f' % std_score)\n",
    "\n"
   ]
  },
  {
   "cell_type": "code",
   "execution_count": 8,
   "metadata": {},
   "outputs": [
    {
     "name": "stdout",
     "output_type": "stream",
     "text": [
      "11107\n",
      "... saving models ...\n"
     ]
    }
   ],
   "source": [
    "n_steps = sum(episode_lens)\n",
    "print(n_steps)\n",
    "agent.save_models(1)"
   ]
  },
  {
   "cell_type": "code",
   "execution_count": 7,
   "metadata": {},
   "outputs": [
    {
     "name": "stderr",
     "output_type": "stream",
     "text": [
      "/home/o/Documents/thesis/.venv/lib/python3.10/site-packages/gymnasium/core.py:311: UserWarning: \u001b[33mWARN: env.configure to get variables from other wrappers is deprecated and will be removed in v1.0, to get this variable you can do `env.unwrapped.configure` for environment variables or `env.get_wrapper_attr('configure')` that will search the reminding wrappers.\u001b[0m\n",
      "  logger.warn(\n"
     ]
    },
    {
     "data": {
      "application/vnd.jupyter.widget-view+json": {
       "model_id": "1e13c4fe96ab4012a9fce7f02c6500b9",
       "version_major": 2,
       "version_minor": 0
      },
      "text/plain": [
       "Test episodes:   0%|          | 0/1 [00:00<?, ?it/s]"
      ]
     },
     "metadata": {},
     "output_type": "display_data"
    },
    {
     "name": "stdout",
     "output_type": "stream",
     "text": [
      "Moviepy - Building video /home/o/Documents/thesis/two_acts/SAC/videos/rl-video-episode-0.mp4.\n",
      "Moviepy - Writing video /home/o/Documents/thesis/two_acts/SAC/videos/rl-video-episode-0.mp4\n",
      "\n"
     ]
    },
    {
     "name": "stderr",
     "output_type": "stream",
     "text": [
      "                                                               "
     ]
    },
    {
     "name": "stdout",
     "output_type": "stream",
     "text": [
      "Moviepy - Done !\n",
      "Moviepy - video ready /home/o/Documents/thesis/two_acts/SAC/videos/rl-video-episode-0.mp4\n"
     ]
    },
    {
     "name": "stderr",
     "output_type": "stream",
     "text": [
      "\r"
     ]
    }
   ],
   "source": [
    "\n",
    "# env = record_videos(env)\n",
    "from gymnasium.wrappers import RecordVideo\n",
    "\n",
    "data = load_config()\n",
    "env = gym.make('racetrack-v0', render_mode = 'rgb_array')\n",
    "env.configure(data) # type: ignore\n",
    "\n",
    "env = RecordVideo(env, video_folder=\"videos\", episode_trigger=lambda e: True)\n",
    "env.unwrapped.set_record_video_wrapper(env)\n",
    "\n",
    "\n",
    "for episode in trange(1, desc='Test episodes'):\n",
    "\n",
    "        proc.reset()        \n",
    "        (observation, info), done = env.reset(), False\n",
    "        truncated = False\n",
    "        \n",
    "        proc.update_input(observation, info)\n",
    "        observation = proc.get_input()\n",
    "\n",
    "        episode_reward = 0\n",
    "        episode_len = 0\n",
    "\n",
    "        while (not done) and (not truncated):\n",
    "            action = agent.choose_action(observation)\n",
    "\n",
    "            new_observation, reward, done, truncated, new_info = env.step(action=action)\n",
    "            proc.update_input(new_observation, info)\n",
    "            new_observation = proc.get_input()\n",
    "\n",
    "            episode_reward += reward # type: ignore\n",
    "            episode_len +=1\n",
    "\n",
    "            if new_info[\"rewards\"][\"on_road_reward\"] == False or episode_len >= 200:\n",
    "                truncated = True\n",
    "\n",
    "            observation = new_observation\n",
    "\n",
    "\n",
    "env.close()\n"
   ]
  }
 ],
 "metadata": {
  "kernelspec": {
   "display_name": ".venv",
   "language": "python",
   "name": "python3"
  },
  "language_info": {
   "codemirror_mode": {
    "name": "ipython",
    "version": 3
   },
   "file_extension": ".py",
   "mimetype": "text/x-python",
   "name": "python",
   "nbconvert_exporter": "python",
   "pygments_lexer": "ipython3",
   "version": "3.10.13"
  }
 },
 "nbformat": 4,
 "nbformat_minor": 2
}
