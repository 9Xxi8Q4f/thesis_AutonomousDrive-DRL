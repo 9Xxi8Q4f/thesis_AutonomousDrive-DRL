{
 "cells": [
  {
   "cell_type": "code",
   "execution_count": 73,
   "metadata": {},
   "outputs": [],
   "source": [
    "import gymnasium as gym\n",
    "import highway_env\n",
    "from matplotlib import pyplot as plt\n",
    "import numpy as np\n",
    "import pprint\n",
    "import math\n"
   ]
  },
  {
   "cell_type": "code",
   "execution_count": 74,
   "metadata": {},
   "outputs": [],
   "source": [
    "\n",
    "class observation_shape:\n",
    "        def __init__(self, obs, info, num_history):\n",
    "\n",
    "            self.ego = obs[0]\n",
    "            self.npc = obs[1]\n",
    "            r, theta_degrees = self.lidar_proc(self.npc)\n",
    "            obs = self.obs_edit(self.ego, self.npc, r, theta_degrees)\n",
    "            self.num_history = num_history\n",
    "            self.observation_shape = obs.shape\n",
    "            infos = np.array([info[\"speed\"], info[\"action\"][0]], dtype=np.float16)\n",
    "            self.info_shape = infos.shape\n",
    "            \n",
    "        def lidar_proc(self, npc):\n",
    "            \n",
    "            dx = npc[1]\n",
    "            dy = npc[2]\n",
    "\n",
    "            r = math.sqrt(dx**2 + dy**2)\n",
    "            theta = math.atan2(dy, dx)\n",
    "            theta_degrees = math.degrees(theta)\n",
    "\n",
    "            return r, theta_degrees\n",
    "\n",
    "        def obs_edit(self, ego, npc, r, theta_degrees):\n",
    "            ego = np.concatenate([ego,[r, theta_degrees]])\n",
    "\n",
    "            obs = np.concatenate([ego,npc])\n",
    "            print(obs)\n",
    "            print(obs.shape)\n",
    "            return obs \n",
    "        \n",
    "        def info_edit(self, info):\n",
    "            return np.array([info[\"speed\"], info[\"action\"][0]])\n",
    "                            \n",
    "        def reset(self):\n",
    "            \n",
    "            self.last_observations = [np.zeros(self.observation_shape)] * self.num_history\n",
    "            self.last_info = [np.zeros(self.info_shape)] * self.num_history\n",
    "\n",
    "        def update_input(self, obs, info):\n",
    "\n",
    "            self.ego = obs[0]\n",
    "            self.npc = obs[1]\n",
    "            r, theta_degrees = self.lidar_proc(self.npc)\n",
    "            obs = self.obs_edit(self.ego, self.npc, r, theta_degrees)\n",
    "\n",
    "            info  = self.info_edit(info)\n",
    "\n",
    "            self.last_observations.append(obs)\n",
    "            self.last_observations.pop(0)\n",
    "\n",
    "            self.last_info.append(info)\n",
    "            self.last_info.pop(0)\n",
    "\n",
    "        def get_input(self):\n",
    "            # obs_stack = np.stack(self.last_observations)\n",
    "            # info_stack = np.stack(self.last_info)\n",
    "\n",
    "            input = np.concatenate([self.last_observations[0].flatten(),\n",
    "                                    self.last_observations[1].flatten(),\n",
    "                                    self.last_info[0].flatten(),\n",
    "                                    self.last_info[1].flatten()])\n",
    "\n",
    "\n",
    "            return input"
   ]
  },
  {
   "cell_type": "code",
   "execution_count": 91,
   "metadata": {},
   "outputs": [
    {
     "name": "stdout",
     "output_type": "stream",
     "text": [
      "{'action': {'lateral': True, 'longitudinal': False, 'type': 'ContinuousAction'},\n",
      " 'action_reward': -0.3,\n",
      " 'centering_position': [0.5, 0.5],\n",
      " 'collision_reward': -5,\n",
      " 'controlled_vehicles': 1,\n",
      " 'duration': 100,\n",
      " 'lane_centering_cost': 4,\n",
      " 'lane_centering_reward': 1,\n",
      " 'manual_control': False,\n",
      " 'observation': {'features': ['presence',\n",
      "                              'x',\n",
      "                              'y',\n",
      "                              'vx',\n",
      "                              'vy',\n",
      "                              'cos_h',\n",
      "                              'sin_h',\n",
      "                              'heading',\n",
      "                              'long_off',\n",
      "                              'lat_off',\n",
      "                              'ang_off'],\n",
      "                 'features_range': {'vx': [-20, 20],\n",
      "                                    'vy': [-20, 20],\n",
      "                                    'x': [-100, 100],\n",
      "                                    'y': [-100, 100]},\n",
      "                 'type': 'Kinematics',\n",
      "                 'vehicles_count': 2},\n",
      " 'offscreen_rendering': False,\n",
      " 'other_vehicles': 1,\n",
      " 'other_vehicles_type': 'highway_env.vehicle.behavior.IDMVehicle',\n",
      " 'policy_frequency': 5,\n",
      " 'real_time_rendering': False,\n",
      " 'render_agent': True,\n",
      " 'scaling': 5.5,\n",
      " 'screen_height': 600,\n",
      " 'screen_width': 600,\n",
      " 'show_trajectories': True,\n",
      " 'simulation_frequency': 15}\n",
      "Environment is setted up.\n"
     ]
    },
    {
     "name": "stderr",
     "output_type": "stream",
     "text": [
      "/home/o/Documents/thesis/.venv/lib/python3.10/site-packages/gymnasium/core.py:311: UserWarning: \u001b[33mWARN: env.configure to get variables from other wrappers is deprecated and will be removed in v1.0, to get this variable you can do `env.unwrapped.configure` for environment variables or `env.get_wrapper_attr('configure')` that will search the reminding wrappers.\u001b[0m\n",
      "  logger.warn(\n",
      "/home/o/Documents/thesis/.venv/lib/python3.10/site-packages/gymnasium/core.py:311: UserWarning: \u001b[33mWARN: env.config to get variables from other wrappers is deprecated and will be removed in v1.0, to get this variable you can do `env.unwrapped.config` for environment variables or `env.get_wrapper_attr('config')` that will search the reminding wrappers.\u001b[0m\n",
      "  logger.warn(\n"
     ]
    }
   ],
   "source": [
    "# envirenment config\n",
    "\n",
    "env = gym.make('racetrack-v0', render_mode = 'rgb_array')\n",
    "env.configure({ # type: ignore\n",
    "    'action': {'lateral': True,\n",
    "            'longitudinal': False,\n",
    "            'type': 'ContinuousAction'},\n",
    "    \"observation\": {\n",
    "        \"type\": \"Kinematics\",\n",
    "        \"vehicles_count\": 2,\n",
    "        \"features\": [\"presence\", \"x\", \"y\", \"vx\", \"vy\", \"cos_h\", \"sin_h\",\n",
    "                     \"heading\", \"long_off\", \"lat_off\", \"ang_off\"],\n",
    "        \"features_range\": {\n",
    "            \"x\": [-100, 100],\n",
    "            \"y\": [-100, 100],\n",
    "            \"vx\": [-20, 20],\n",
    "            \"vy\": [-20, 20]}\n",
    "    },\n",
    "    'show_trajectories': True,\n",
    "    'other_vehicles': 1,\n",
    "    'duration': 100,\n",
    "    'collision_reward': -5,\n",
    "})\n",
    "\n",
    "# prints env configs\n",
    "#* obs is flattened to 1D array for nn\n",
    "\n",
    "pprint.pprint(env.config) # type: ignore\n",
    "(obs, info), done = env.reset(), False\n",
    "# obs = np.array(obs.flatten())\n",
    "print(\"Environment is setted up.\")"
   ]
  },
  {
   "cell_type": "code",
   "execution_count": 98,
   "metadata": {},
   "outputs": [
    {
     "name": "stdout",
     "output_type": "stream",
     "text": [
      "[ 1.          0.80936617  0.05        0.5         0.          1.\n",
      "  0.          0.         38.936615    0.          0.        ]\n",
      "[ 1.          0.25822103 -0.00930938 -0.20981804 -0.08148462  0.9627625\n",
      " -0.27034873 -0.27375525  6.843881   -0.          0.        ]\n"
     ]
    }
   ],
   "source": [
    "print(obs[0])\n",
    "print(obs[1])\n"
   ]
  },
  {
   "cell_type": "code",
   "execution_count": 99,
   "metadata": {},
   "outputs": [
    {
     "name": "stdout",
     "output_type": "stream",
     "text": [
      "[ 1.00000000e+00  8.09366167e-01  5.00000007e-02  5.00000000e-01\n",
      "  0.00000000e+00  1.00000000e+00  0.00000000e+00  0.00000000e+00\n",
      "  3.89366150e+01  0.00000000e+00  0.00000000e+00  2.58388787e-01\n",
      " -2.06473309e+00  1.00000000e+00  2.58221030e-01 -9.30938404e-03\n",
      " -2.09818035e-01 -8.14846158e-02  9.62762475e-01 -2.70348728e-01\n",
      " -2.73755252e-01  6.84388113e+00 -0.00000000e+00  0.00000000e+00]\n",
      "(24,)\n",
      "[0. 0. 0. 0. 0. 0. 0. 0. 0. 0. 0. 0. 0. 0. 0. 0. 0. 0. 0. 0. 0. 0. 0. 0.\n",
      " 0. 0. 0. 0. 0. 0. 0. 0. 0. 0. 0. 0. 0. 0. 0. 0. 0. 0. 0. 0. 0. 0. 0. 0.\n",
      " 0. 0. 0. 0.]\n"
     ]
    }
   ],
   "source": [
    "proc = observation_shape(obs,info,2)\n",
    "proc.reset()\n",
    "input = proc.get_input()\n",
    "print(input)"
   ]
  },
  {
   "cell_type": "code",
   "execution_count": 101,
   "metadata": {},
   "outputs": [
    {
     "name": "stdout",
     "output_type": "stream",
     "text": [
      "[ 1.00000000e+00  8.09366167e-01  5.00000007e-02  5.00000000e-01\n",
      "  0.00000000e+00  1.00000000e+00  0.00000000e+00  0.00000000e+00\n",
      "  3.89366150e+01  0.00000000e+00  0.00000000e+00  2.58388787e-01\n",
      " -2.06473309e+00  1.00000000e+00  2.58221030e-01 -9.30938404e-03\n",
      " -2.09818035e-01 -8.14846158e-02  9.62762475e-01 -2.70348728e-01\n",
      " -2.73755252e-01  6.84388113e+00 -0.00000000e+00  0.00000000e+00]\n",
      "(24,)\n",
      "[ 1.00000000e+00  8.09366167e-01  5.00000007e-02  5.00000000e-01\n",
      "  0.00000000e+00  1.00000000e+00  0.00000000e+00  0.00000000e+00\n",
      "  3.89366150e+01  0.00000000e+00  0.00000000e+00  2.58388787e-01\n",
      " -2.06473309e+00  1.00000000e+00  2.58221030e-01 -9.30938404e-03\n",
      " -2.09818035e-01 -8.14846158e-02  9.62762475e-01 -2.70348728e-01\n",
      " -2.73755252e-01  6.84388113e+00 -0.00000000e+00  0.00000000e+00\n",
      "  1.00000000e+00  8.09366167e-01  5.00000007e-02  5.00000000e-01\n",
      "  0.00000000e+00  1.00000000e+00  0.00000000e+00  0.00000000e+00\n",
      "  3.89366150e+01  0.00000000e+00  0.00000000e+00  2.58388787e-01\n",
      " -2.06473309e+00  1.00000000e+00  2.58221030e-01 -9.30938404e-03\n",
      " -2.09818035e-01 -8.14846158e-02  9.62762475e-01 -2.70348728e-01\n",
      " -2.73755252e-01  6.84388113e+00 -0.00000000e+00  0.00000000e+00\n",
      "  1.00000000e+01  9.30910289e-01  1.00000000e+01  9.30910289e-01]\n"
     ]
    }
   ],
   "source": [
    "proc.update_input(obs,info)\n",
    "input = proc.get_input()\n",
    "print(input)"
   ]
  },
  {
   "cell_type": "code",
   "execution_count": 103,
   "metadata": {},
   "outputs": [
    {
     "name": "stdout",
     "output_type": "stream",
     "text": [
      "(52,)\n"
     ]
    }
   ],
   "source": [
    "proc.reset()\n",
    "input = proc.get_input()\n",
    "print(input.shape)"
   ]
  }
 ],
 "metadata": {
  "kernelspec": {
   "display_name": ".venv",
   "language": "python",
   "name": "python3"
  },
  "language_info": {
   "codemirror_mode": {
    "name": "ipython",
    "version": 3
   },
   "file_extension": ".py",
   "mimetype": "text/x-python",
   "name": "python",
   "nbconvert_exporter": "python",
   "pygments_lexer": "ipython3",
   "version": "3.10.13"
  }
 },
 "nbformat": 4,
 "nbformat_minor": 2
}
