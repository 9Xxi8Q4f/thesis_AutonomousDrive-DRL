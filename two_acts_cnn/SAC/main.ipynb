{
 "cells": [
  {
   "cell_type": "code",
   "execution_count": 11,
   "metadata": {},
   "outputs": [],
   "source": [
    "import gymnasium as gym\n",
    "import matplotlib.pyplot as plt\n",
    "import numpy as np\n",
    "import time\n",
    "import pprint\n",
    "from tqdm.notebook import trange\n",
    "import tensorflow as tf\n",
    "from sac import Agent\n",
    "from obs import observation_shape\n",
    "\n",
    "filename = 'inverted_pendulum.png'\n",
    "\n",
    "best_score = -10000.0\n",
    "best_score = -1000.0\n",
    "score_history = []\n",
    "episode_lens = []\n",
    "avg_history = []\n",
    "std_history = []\n",
    "avg_history_100 = []"
   ]
  },
  {
   "cell_type": "code",
   "execution_count": 12,
   "metadata": {},
   "outputs": [
    {
     "name": "stdout",
     "output_type": "stream",
     "text": [
      "Num GPUs Available:  1\n"
     ]
    }
   ],
   "source": [
    "print(\"Num GPUs Available: \", len(tf.config.list_physical_devices('GPU')))"
   ]
  },
  {
   "cell_type": "code",
   "execution_count": 13,
   "metadata": {},
   "outputs": [
    {
     "name": "stdout",
     "output_type": "stream",
     "text": [
      "[[[0.         0.38823529]\n",
      "  [0.         0.38823529]\n",
      "  [0.         0.38823529]\n",
      "  ...\n",
      "  [0.         0.38823529]\n",
      "  [0.         0.38823529]\n",
      "  [0.         0.38823529]]\n",
      "\n",
      " [[0.         0.38823529]\n",
      "  [0.         0.38823529]\n",
      "  [0.         0.38823529]\n",
      "  ...\n",
      "  [0.         0.38823529]\n",
      "  [0.         0.38823529]\n",
      "  [0.         0.38823529]]\n",
      "\n",
      " [[0.         0.38823529]\n",
      "  [0.         0.38823529]\n",
      "  [0.         0.38823529]\n",
      "  ...\n",
      "  [0.         0.38823529]\n",
      "  [0.         0.38823529]\n",
      "  [0.         0.38823529]]\n",
      "\n",
      " ...\n",
      "\n",
      " [[0.         0.38823529]\n",
      "  [0.         0.38823529]\n",
      "  [0.         0.38823529]\n",
      "  ...\n",
      "  [0.         0.38823529]\n",
      "  [0.         0.38823529]\n",
      "  [0.         0.38823529]]\n",
      "\n",
      " [[0.         0.38823529]\n",
      "  [0.         0.38823529]\n",
      "  [0.         0.38823529]\n",
      "  ...\n",
      "  [0.         0.38823529]\n",
      "  [0.         0.38823529]\n",
      "  [0.         0.38823529]]\n",
      "\n",
      " [[0.         0.38823529]\n",
      "  [0.         0.38823529]\n",
      "  [0.         0.38823529]\n",
      "  ...\n",
      "  [0.         0.38823529]\n",
      "  [0.         0.38823529]\n",
      "  [0.         0.38823529]]]\n"
     ]
    }
   ],
   "source": [
    "env = gym.make('racetrack-v0', render_mode = 'rgb_array')\n",
    "env.configure({   \"action\": {\"lateral\": True,\n",
    "            \"longitudinal\": True,\n",
    "            \"type\": \"ContinuousAction\"},\n",
    "            \"observation\": {\n",
    "                \"type\": \"GrayscaleObservation\",\n",
    "                \"observation_shape\": (64, 32),\n",
    "                \"stack_size\": 2,\n",
    "                \"weights\": [0.2989, 0.5870, 0.1140],\n",
    "                \"scaling\": 1.75},\n",
    "    \"show_trajectories\": True,\n",
    "    \"duration\": 80,\n",
    "    \"collision_reward\": -1,\n",
    "    \"simulation_frequency\": 15,\n",
    "    \"policy_frequency\": 5,\n",
    "    \"real_time_rendering\": True\n",
    "}) # type: ignore\n",
    "(obs, info), done = env.reset(), False\n",
    "input = observation_shape(obs) \n",
    "print(input)\n"
   ]
  },
  {
   "cell_type": "code",
   "execution_count": 14,
   "metadata": {},
   "outputs": [],
   "source": [
    "agent = Agent(input_dims=input.shape, env=env,\n",
    "            n_actions=2)"
   ]
  },
  {
   "cell_type": "code",
   "execution_count": 17,
   "metadata": {},
   "outputs": [
    {
     "data": {
      "application/vnd.jupyter.widget-view+json": {
       "model_id": "9782ec48be4f45a5944aaadcd1f16b3a",
       "version_major": 2,
       "version_minor": 0
      },
      "text/plain": [
       "Test episodes:   0%|          | 0/30 [00:00<?, ?it/s]"
      ]
     },
     "metadata": {},
     "output_type": "display_data"
    },
    {
     "name": "stdout",
     "output_type": "stream",
     "text": [
      "Moviepy - Building video /home/o/Documents/thesis/two_acts_cnn/SAC/videos/rl-video-episode-0.mp4.\n",
      "Moviepy - Writing video /home/o/Documents/thesis/two_acts_cnn/SAC/videos/rl-video-episode-0.mp4\n",
      "\n"
     ]
    },
    {
     "name": "stderr",
     "output_type": "stream",
     "text": []
    },
    {
     "name": "stdout",
     "output_type": "stream",
     "text": [
      "Moviepy - Done !\n",
      "Moviepy - video ready /home/o/Documents/thesis/two_acts_cnn/SAC/videos/rl-video-episode-0.mp4\n",
      "episode  0 score 2.2 ep len 7 avg score 2.1 avg_score_100 2.1 std score 0.1\n",
      "Moviepy - Building video /home/o/Documents/thesis/two_acts_cnn/SAC/videos/rl-video-episode-1.mp4.\n",
      "Moviepy - Writing video /home/o/Documents/thesis/two_acts_cnn/SAC/videos/rl-video-episode-1.mp4\n",
      "\n"
     ]
    },
    {
     "name": "stderr",
     "output_type": "stream",
     "text": []
    },
    {
     "name": "stdout",
     "output_type": "stream",
     "text": [
      "Moviepy - Done !\n",
      "Moviepy - video ready /home/o/Documents/thesis/two_acts_cnn/SAC/videos/rl-video-episode-1.mp4\n",
      "episode  1 score 2.3 ep len 7 avg score 2.2 avg_score_100 2.2 std score 0.1\n",
      "Moviepy - Building video /home/o/Documents/thesis/two_acts_cnn/SAC/videos/rl-video-episode-2.mp4.\n",
      "Moviepy - Writing video /home/o/Documents/thesis/two_acts_cnn/SAC/videos/rl-video-episode-2.mp4\n",
      "\n"
     ]
    },
    {
     "name": "stderr",
     "output_type": "stream",
     "text": []
    },
    {
     "name": "stdout",
     "output_type": "stream",
     "text": [
      "Moviepy - Done !\n",
      "Moviepy - video ready /home/o/Documents/thesis/two_acts_cnn/SAC/videos/rl-video-episode-2.mp4\n",
      "episode  2 score 2.1 ep len 7 avg score 2.1 avg_score_100 2.1 std score 0.1\n",
      "Moviepy - Building video /home/o/Documents/thesis/two_acts_cnn/SAC/videos/rl-video-episode-3.mp4.\n",
      "Moviepy - Writing video /home/o/Documents/thesis/two_acts_cnn/SAC/videos/rl-video-episode-3.mp4\n",
      "\n"
     ]
    },
    {
     "name": "stderr",
     "output_type": "stream",
     "text": []
    },
    {
     "name": "stdout",
     "output_type": "stream",
     "text": [
      "Moviepy - Done !\n",
      "Moviepy - video ready /home/o/Documents/thesis/two_acts_cnn/SAC/videos/rl-video-episode-3.mp4\n",
      "episode  3 score 2.0 ep len 7 avg score 2.1 avg_score_100 2.1 std score 0.1\n",
      "Moviepy - Building video /home/o/Documents/thesis/two_acts_cnn/SAC/videos/rl-video-episode-4.mp4.\n",
      "Moviepy - Writing video /home/o/Documents/thesis/two_acts_cnn/SAC/videos/rl-video-episode-4.mp4\n",
      "\n"
     ]
    },
    {
     "name": "stderr",
     "output_type": "stream",
     "text": []
    },
    {
     "name": "stdout",
     "output_type": "stream",
     "text": [
      "Moviepy - Done !\n",
      "Moviepy - video ready /home/o/Documents/thesis/two_acts_cnn/SAC/videos/rl-video-episode-4.mp4\n",
      "episode  4 score 2.3 ep len 7 avg score 2.1 avg_score_100 2.1 std score 0.1\n",
      "Moviepy - Building video /home/o/Documents/thesis/two_acts_cnn/SAC/videos/rl-video-episode-5.mp4.\n",
      "Moviepy - Writing video /home/o/Documents/thesis/two_acts_cnn/SAC/videos/rl-video-episode-5.mp4\n",
      "\n"
     ]
    },
    {
     "name": "stderr",
     "output_type": "stream",
     "text": []
    },
    {
     "name": "stdout",
     "output_type": "stream",
     "text": [
      "Moviepy - Done !\n",
      "Moviepy - video ready /home/o/Documents/thesis/two_acts_cnn/SAC/videos/rl-video-episode-5.mp4\n",
      "episode  5 score 1.9 ep len 7 avg score 2.1 avg_score_100 2.1 std score 0.1\n",
      "Moviepy - Building video /home/o/Documents/thesis/two_acts_cnn/SAC/videos/rl-video-episode-6.mp4.\n",
      "Moviepy - Writing video /home/o/Documents/thesis/two_acts_cnn/SAC/videos/rl-video-episode-6.mp4\n",
      "\n"
     ]
    },
    {
     "name": "stderr",
     "output_type": "stream",
     "text": []
    },
    {
     "name": "stdout",
     "output_type": "stream",
     "text": [
      "Moviepy - Done !\n",
      "Moviepy - video ready /home/o/Documents/thesis/two_acts_cnn/SAC/videos/rl-video-episode-6.mp4\n",
      "episode  6 score 2.0 ep len 7 avg score 2.1 avg_score_100 2.1 std score 0.1\n",
      "Moviepy - Building video /home/o/Documents/thesis/two_acts_cnn/SAC/videos/rl-video-episode-7.mp4.\n",
      "Moviepy - Writing video /home/o/Documents/thesis/two_acts_cnn/SAC/videos/rl-video-episode-7.mp4\n",
      "\n"
     ]
    },
    {
     "name": "stderr",
     "output_type": "stream",
     "text": []
    },
    {
     "name": "stdout",
     "output_type": "stream",
     "text": [
      "Moviepy - Done !\n",
      "Moviepy - video ready /home/o/Documents/thesis/two_acts_cnn/SAC/videos/rl-video-episode-7.mp4\n",
      "episode  7 score 1.9 ep len 7 avg score 2.1 avg_score_100 2.1 std score 0.1\n",
      "Moviepy - Building video /home/o/Documents/thesis/two_acts_cnn/SAC/videos/rl-video-episode-8.mp4.\n",
      "Moviepy - Writing video /home/o/Documents/thesis/two_acts_cnn/SAC/videos/rl-video-episode-8.mp4\n",
      "\n"
     ]
    },
    {
     "name": "stderr",
     "output_type": "stream",
     "text": []
    },
    {
     "name": "stdout",
     "output_type": "stream",
     "text": [
      "Moviepy - Done !\n",
      "Moviepy - video ready /home/o/Documents/thesis/two_acts_cnn/SAC/videos/rl-video-episode-8.mp4\n",
      "episode  8 score 2.2 ep len 7 avg score 2.1 avg_score_100 2.1 std score 0.1\n",
      "Moviepy - Building video /home/o/Documents/thesis/two_acts_cnn/SAC/videos/rl-video-episode-9.mp4.\n",
      "Moviepy - Writing video /home/o/Documents/thesis/two_acts_cnn/SAC/videos/rl-video-episode-9.mp4\n",
      "\n"
     ]
    },
    {
     "name": "stderr",
     "output_type": "stream",
     "text": []
    },
    {
     "name": "stdout",
     "output_type": "stream",
     "text": [
      "Moviepy - Done !\n",
      "Moviepy - video ready /home/o/Documents/thesis/two_acts_cnn/SAC/videos/rl-video-episode-9.mp4\n",
      "episode  9 score 2.1 ep len 7 avg score 2.1 avg_score_100 2.1 std score 0.1\n",
      "Moviepy - Building video /home/o/Documents/thesis/two_acts_cnn/SAC/videos/rl-video-episode-10.mp4.\n",
      "Moviepy - Writing video /home/o/Documents/thesis/two_acts_cnn/SAC/videos/rl-video-episode-10.mp4\n",
      "\n"
     ]
    },
    {
     "name": "stderr",
     "output_type": "stream",
     "text": []
    },
    {
     "name": "stdout",
     "output_type": "stream",
     "text": [
      "Moviepy - Done !\n",
      "Moviepy - video ready /home/o/Documents/thesis/two_acts_cnn/SAC/videos/rl-video-episode-10.mp4\n",
      "episode  10 score 2.0 ep len 7 avg score 2.1 avg_score_100 2.1 std score 0.1\n",
      "Moviepy - Building video /home/o/Documents/thesis/two_acts_cnn/SAC/videos/rl-video-episode-11.mp4.\n",
      "Moviepy - Writing video /home/o/Documents/thesis/two_acts_cnn/SAC/videos/rl-video-episode-11.mp4\n",
      "\n"
     ]
    },
    {
     "name": "stderr",
     "output_type": "stream",
     "text": []
    },
    {
     "name": "stdout",
     "output_type": "stream",
     "text": [
      "Moviepy - Done !\n",
      "Moviepy - video ready /home/o/Documents/thesis/two_acts_cnn/SAC/videos/rl-video-episode-11.mp4\n",
      "episode  11 score 2.4 ep len 8 avg score 2.1 avg_score_100 2.1 std score 0.2\n",
      "Moviepy - Building video /home/o/Documents/thesis/two_acts_cnn/SAC/videos/rl-video-episode-12.mp4.\n",
      "Moviepy - Writing video /home/o/Documents/thesis/two_acts_cnn/SAC/videos/rl-video-episode-12.mp4\n",
      "\n"
     ]
    },
    {
     "name": "stderr",
     "output_type": "stream",
     "text": []
    },
    {
     "name": "stdout",
     "output_type": "stream",
     "text": [
      "Moviepy - Done !\n",
      "Moviepy - video ready /home/o/Documents/thesis/two_acts_cnn/SAC/videos/rl-video-episode-12.mp4\n",
      "episode  12 score 2.4 ep len 7 avg score 2.1 avg_score_100 2.1 std score 0.2\n"
     ]
    },
    {
     "name": "stderr",
     "output_type": "stream",
     "text": [
      "2023-12-22 22:39:13.779353: I tensorflow/compiler/xla/service/service.cc:168] XLA service 0x55d897179550 initialized for platform CUDA (this does not guarantee that XLA will be used). Devices:\n",
      "2023-12-22 22:39:13.779372: I tensorflow/compiler/xla/service/service.cc:176]   StreamExecutor device (0): NVIDIA GeForce RTX 3060, Compute Capability 8.6\n",
      "2023-12-22 22:39:13.784500: I tensorflow/compiler/mlir/tensorflow/utils/dump_mlir_util.cc:269] disabling MLIR crash reproducer, set env var `MLIR_CRASH_REPRODUCER_DIRECTORY` to enable.\n",
      "2023-12-22 22:39:13.863204: I ./tensorflow/compiler/jit/device_compiler.h:186] Compiled cluster using XLA!  This line is logged at most once for the lifetime of the process.\n"
     ]
    },
    {
     "name": "stdout",
     "output_type": "stream",
     "text": [
      "WARNING:tensorflow:5 out of the last 5 calls to <function _BaseOptimizer._update_step_xla at 0x7f7171afb5b0> triggered tf.function retracing. Tracing is expensive and the excessive number of tracings could be due to (1) creating @tf.function repeatedly in a loop, (2) passing tensors with different shapes, (3) passing Python objects instead of tensors. For (1), please define your @tf.function outside of the loop. For (2), @tf.function has reduce_retracing=True option that can avoid unnecessary retracing. For (3), please refer to https://www.tensorflow.org/guide/function#controlling_retracing and https://www.tensorflow.org/api_docs/python/tf/function for  more details.\n",
      "WARNING:tensorflow:6 out of the last 6 calls to <function _BaseOptimizer._update_step_xla at 0x7f7171afb5b0> triggered tf.function retracing. Tracing is expensive and the excessive number of tracings could be due to (1) creating @tf.function repeatedly in a loop, (2) passing tensors with different shapes, (3) passing Python objects instead of tensors. For (1), please define your @tf.function outside of the loop. For (2), @tf.function has reduce_retracing=True option that can avoid unnecessary retracing. For (3), please refer to https://www.tensorflow.org/guide/function#controlling_retracing and https://www.tensorflow.org/api_docs/python/tf/function for  more details.\n",
      "Moviepy - Building video /home/o/Documents/thesis/two_acts_cnn/SAC/videos/rl-video-episode-13.mp4.\n",
      "Moviepy - Writing video /home/o/Documents/thesis/two_acts_cnn/SAC/videos/rl-video-episode-13.mp4\n",
      "\n"
     ]
    },
    {
     "name": "stderr",
     "output_type": "stream",
     "text": []
    },
    {
     "name": "stdout",
     "output_type": "stream",
     "text": [
      "Moviepy - Done !\n",
      "Moviepy - video ready /home/o/Documents/thesis/two_acts_cnn/SAC/videos/rl-video-episode-13.mp4\n",
      "episode  13 score 0.6 ep len 3 avg score 2.0 avg_score_100 2.0 std score 0.4\n",
      "Moviepy - Building video /home/o/Documents/thesis/two_acts_cnn/SAC/videos/rl-video-episode-14.mp4.\n",
      "Moviepy - Writing video /home/o/Documents/thesis/two_acts_cnn/SAC/videos/rl-video-episode-14.mp4\n",
      "\n"
     ]
    },
    {
     "name": "stderr",
     "output_type": "stream",
     "text": []
    },
    {
     "name": "stdout",
     "output_type": "stream",
     "text": [
      "Moviepy - Done !\n",
      "Moviepy - video ready /home/o/Documents/thesis/two_acts_cnn/SAC/videos/rl-video-episode-14.mp4\n",
      "episode  14 score -1.4 ep len 10 avg score 1.8 avg_score_100 1.8 std score 0.9\n",
      "Moviepy - Building video /home/o/Documents/thesis/two_acts_cnn/SAC/videos/rl-video-episode-15.mp4.\n",
      "Moviepy - Writing video /home/o/Documents/thesis/two_acts_cnn/SAC/videos/rl-video-episode-15.mp4\n",
      "\n"
     ]
    },
    {
     "name": "stderr",
     "output_type": "stream",
     "text": []
    },
    {
     "name": "stdout",
     "output_type": "stream",
     "text": [
      "Moviepy - Done !\n",
      "Moviepy - video ready /home/o/Documents/thesis/two_acts_cnn/SAC/videos/rl-video-episode-15.mp4\n",
      "episode  15 score 0.2 ep len 7 avg score 1.7 avg_score_100 1.7 std score 1.0\n",
      "Moviepy - Building video /home/o/Documents/thesis/two_acts_cnn/SAC/videos/rl-video-episode-16.mp4.\n",
      "Moviepy - Writing video /home/o/Documents/thesis/two_acts_cnn/SAC/videos/rl-video-episode-16.mp4\n",
      "\n"
     ]
    },
    {
     "name": "stderr",
     "output_type": "stream",
     "text": []
    },
    {
     "name": "stdout",
     "output_type": "stream",
     "text": [
      "Moviepy - Done !\n",
      "Moviepy - video ready /home/o/Documents/thesis/two_acts_cnn/SAC/videos/rl-video-episode-16.mp4\n",
      "episode  16 score 0.3 ep len 21 avg score 1.6 avg_score_100 1.6 std score 1.0\n",
      "Moviepy - Building video /home/o/Documents/thesis/two_acts_cnn/SAC/videos/rl-video-episode-17.mp4.\n",
      "Moviepy - Writing video /home/o/Documents/thesis/two_acts_cnn/SAC/videos/rl-video-episode-17.mp4\n",
      "\n"
     ]
    },
    {
     "name": "stderr",
     "output_type": "stream",
     "text": []
    },
    {
     "name": "stdout",
     "output_type": "stream",
     "text": [
      "Moviepy - Done !\n",
      "Moviepy - video ready /home/o/Documents/thesis/two_acts_cnn/SAC/videos/rl-video-episode-17.mp4\n",
      "episode  17 score -0.2 ep len 2 avg score 1.5 avg_score_100 1.5 std score 1.1\n",
      "Moviepy - Building video /home/o/Documents/thesis/two_acts_cnn/SAC/videos/rl-video-episode-18.mp4.\n",
      "Moviepy - Writing video /home/o/Documents/thesis/two_acts_cnn/SAC/videos/rl-video-episode-18.mp4\n",
      "\n"
     ]
    },
    {
     "name": "stderr",
     "output_type": "stream",
     "text": []
    },
    {
     "name": "stdout",
     "output_type": "stream",
     "text": [
      "Moviepy - Done !\n",
      "Moviepy - video ready /home/o/Documents/thesis/two_acts_cnn/SAC/videos/rl-video-episode-18.mp4\n",
      "episode  18 score -1.0 ep len 8 avg score 1.4 avg_score_100 1.4 std score 1.2\n",
      "Moviepy - Building video /home/o/Documents/thesis/two_acts_cnn/SAC/videos/rl-video-episode-19.mp4.\n",
      "Moviepy - Writing video /home/o/Documents/thesis/two_acts_cnn/SAC/videos/rl-video-episode-19.mp4\n",
      "\n"
     ]
    },
    {
     "name": "stderr",
     "output_type": "stream",
     "text": []
    },
    {
     "name": "stdout",
     "output_type": "stream",
     "text": [
      "Moviepy - Done !\n",
      "Moviepy - video ready /home/o/Documents/thesis/two_acts_cnn/SAC/videos/rl-video-episode-19.mp4\n",
      "episode  19 score -0.5 ep len 14 avg score 1.3 avg_score_100 1.3 std score 1.2\n",
      "Moviepy - Building video /home/o/Documents/thesis/two_acts_cnn/SAC/videos/rl-video-episode-20.mp4.\n",
      "Moviepy - Writing video /home/o/Documents/thesis/two_acts_cnn/SAC/videos/rl-video-episode-20.mp4\n",
      "\n"
     ]
    },
    {
     "name": "stderr",
     "output_type": "stream",
     "text": []
    },
    {
     "name": "stdout",
     "output_type": "stream",
     "text": [
      "Moviepy - Done !\n",
      "Moviepy - video ready /home/o/Documents/thesis/two_acts_cnn/SAC/videos/rl-video-episode-20.mp4\n",
      "episode  20 score 0.1 ep len 7 avg score 1.3 avg_score_100 1.3 std score 1.2\n",
      "Moviepy - Building video /home/o/Documents/thesis/two_acts_cnn/SAC/videos/rl-video-episode-21.mp4.\n",
      "Moviepy - Writing video /home/o/Documents/thesis/two_acts_cnn/SAC/videos/rl-video-episode-21.mp4\n",
      "\n"
     ]
    },
    {
     "name": "stderr",
     "output_type": "stream",
     "text": []
    },
    {
     "name": "stdout",
     "output_type": "stream",
     "text": [
      "Moviepy - Done !\n",
      "Moviepy - video ready /home/o/Documents/thesis/two_acts_cnn/SAC/videos/rl-video-episode-21.mp4\n",
      "episode  21 score 1.1 ep len 7 avg score 1.3 avg_score_100 1.3 std score 1.2\n",
      "Moviepy - Building video /home/o/Documents/thesis/two_acts_cnn/SAC/videos/rl-video-episode-22.mp4.\n",
      "Moviepy - Writing video /home/o/Documents/thesis/two_acts_cnn/SAC/videos/rl-video-episode-22.mp4\n",
      "\n"
     ]
    },
    {
     "name": "stderr",
     "output_type": "stream",
     "text": []
    },
    {
     "name": "stdout",
     "output_type": "stream",
     "text": [
      "Moviepy - Done !\n",
      "Moviepy - video ready /home/o/Documents/thesis/two_acts_cnn/SAC/videos/rl-video-episode-22.mp4\n",
      "episode  22 score -0.4 ep len 4 avg score 1.2 avg_score_100 1.2 std score 1.2\n",
      "Moviepy - Building video /home/o/Documents/thesis/two_acts_cnn/SAC/videos/rl-video-episode-23.mp4.\n",
      "Moviepy - Writing video /home/o/Documents/thesis/two_acts_cnn/SAC/videos/rl-video-episode-23.mp4\n",
      "\n"
     ]
    },
    {
     "name": "stderr",
     "output_type": "stream",
     "text": []
    },
    {
     "name": "stdout",
     "output_type": "stream",
     "text": [
      "Moviepy - Done !\n",
      "Moviepy - video ready /home/o/Documents/thesis/two_acts_cnn/SAC/videos/rl-video-episode-23.mp4\n",
      "episode  23 score 1.4 ep len 7 avg score 1.2 avg_score_100 1.2 std score 1.2\n",
      "Moviepy - Building video /home/o/Documents/thesis/two_acts_cnn/SAC/videos/rl-video-episode-24.mp4.\n",
      "Moviepy - Writing video /home/o/Documents/thesis/two_acts_cnn/SAC/videos/rl-video-episode-24.mp4\n",
      "\n"
     ]
    },
    {
     "name": "stderr",
     "output_type": "stream",
     "text": []
    },
    {
     "name": "stdout",
     "output_type": "stream",
     "text": [
      "Moviepy - Done !\n",
      "Moviepy - video ready /home/o/Documents/thesis/two_acts_cnn/SAC/videos/rl-video-episode-24.mp4\n",
      "episode  24 score 0.7 ep len 7 avg score 1.2 avg_score_100 1.2 std score 1.2\n",
      "Moviepy - Building video /home/o/Documents/thesis/two_acts_cnn/SAC/videos/rl-video-episode-25.mp4.\n",
      "Moviepy - Writing video /home/o/Documents/thesis/two_acts_cnn/SAC/videos/rl-video-episode-25.mp4\n",
      "\n"
     ]
    },
    {
     "name": "stderr",
     "output_type": "stream",
     "text": []
    },
    {
     "name": "stdout",
     "output_type": "stream",
     "text": [
      "Moviepy - Done !\n",
      "Moviepy - video ready /home/o/Documents/thesis/two_acts_cnn/SAC/videos/rl-video-episode-25.mp4\n",
      "episode  25 score 0.1 ep len 8 avg score 1.1 avg_score_100 1.1 std score 1.2\n",
      "Moviepy - Building video /home/o/Documents/thesis/two_acts_cnn/SAC/videos/rl-video-episode-26.mp4.\n",
      "Moviepy - Writing video /home/o/Documents/thesis/two_acts_cnn/SAC/videos/rl-video-episode-26.mp4\n",
      "\n"
     ]
    },
    {
     "name": "stderr",
     "output_type": "stream",
     "text": []
    },
    {
     "name": "stdout",
     "output_type": "stream",
     "text": [
      "Moviepy - Done !\n",
      "Moviepy - video ready /home/o/Documents/thesis/two_acts_cnn/SAC/videos/rl-video-episode-26.mp4\n",
      "episode  26 score -1.6 ep len 8 avg score 1.0 avg_score_100 1.0 std score 1.2\n",
      "Moviepy - Building video /home/o/Documents/thesis/two_acts_cnn/SAC/videos/rl-video-episode-27.mp4.\n",
      "Moviepy - Writing video /home/o/Documents/thesis/two_acts_cnn/SAC/videos/rl-video-episode-27.mp4\n",
      "\n"
     ]
    },
    {
     "name": "stderr",
     "output_type": "stream",
     "text": []
    },
    {
     "name": "stdout",
     "output_type": "stream",
     "text": [
      "Moviepy - Done !\n",
      "Moviepy - video ready /home/o/Documents/thesis/two_acts_cnn/SAC/videos/rl-video-episode-27.mp4\n",
      "episode  27 score 1.4 ep len 7 avg score 1.1 avg_score_100 1.1 std score 1.2\n",
      "Moviepy - Building video /home/o/Documents/thesis/two_acts_cnn/SAC/videos/rl-video-episode-28.mp4.\n",
      "Moviepy - Writing video /home/o/Documents/thesis/two_acts_cnn/SAC/videos/rl-video-episode-28.mp4\n",
      "\n"
     ]
    },
    {
     "name": "stderr",
     "output_type": "stream",
     "text": []
    },
    {
     "name": "stdout",
     "output_type": "stream",
     "text": [
      "Moviepy - Done !\n",
      "Moviepy - video ready /home/o/Documents/thesis/two_acts_cnn/SAC/videos/rl-video-episode-28.mp4\n",
      "episode  28 score 1.9 ep len 29 avg score 1.1 avg_score_100 1.1 std score 1.2\n",
      "Moviepy - Building video /home/o/Documents/thesis/two_acts_cnn/SAC/videos/rl-video-episode-29.mp4.\n",
      "Moviepy - Writing video /home/o/Documents/thesis/two_acts_cnn/SAC/videos/rl-video-episode-29.mp4\n",
      "\n"
     ]
    },
    {
     "name": "stderr",
     "output_type": "stream",
     "text": []
    },
    {
     "name": "stdout",
     "output_type": "stream",
     "text": [
      "Moviepy - Done !\n",
      "Moviepy - video ready /home/o/Documents/thesis/two_acts_cnn/SAC/videos/rl-video-episode-29.mp4\n",
      "episode  29 score 13.1 ep len 26 avg score 1.5 avg_score_100 1.5 std score 2.4\n"
     ]
    }
   ],
   "source": [
    "# main loop\n",
    "for episode in trange(450, desc='Test episodes'):\n",
    "\n",
    "        (observation, info), done = env.reset(), False\n",
    "        truncated = False\n",
    "        observation = observation_shape(observation) \n",
    "\n",
    "        episode_reward = 0\n",
    "        episode_len = 0\n",
    "        while (not done) and (not truncated):\n",
    "            action = agent.choose_action(observation)\n",
    "\n",
    "            new_observation, reward, done, truncated, new_info = env.step(action=action)\n",
    "            new_observation = observation_shape(new_observation)\n",
    "            \n",
    "            episode_reward += reward # type: ignore\n",
    "            episode_len +=1\n",
    "\n",
    "            if new_info[\"rewards\"][\"on_road_reward\"] == False or episode_len >= 200:\n",
    "                truncated = True\n",
    "\n",
    "            agent.remember(state=observation, action=action, done=done,\n",
    "                            reward=reward, new_state=new_observation)\n",
    "            agent.learn()\n",
    "\n",
    "            observation = new_observation\n",
    "\n",
    "        episode_lens.append(episode_len)\n",
    "\n",
    "        score_history.append(episode_reward)\n",
    "        avg_score = np.mean(score_history)\n",
    "        avg_history.append(avg_score)\n",
    "        std_score = np.std(score_history)\n",
    "        std_history.append(std_score)\n",
    "\n",
    "        avg_score_100 = np.mean(score_history[-100:])\n",
    "        avg_history_100.append(avg_score_100)\n",
    "\n",
    "\n",
    "        agent.tensorboard.update_stats(episode_rew = episode_reward, \n",
    "                                       average_rew =avg_score,\n",
    "                                       average_100_reward = avg_score_100,\n",
    "                                       std_rew=std_score, \n",
    "                                       episode_len = episode_len)\n",
    "\n",
    "        print('episode ', episode, 'score %.1f' % episode_reward, 'ep len', episode_len,\n",
    "              'avg score %.1f' % avg_score, 'avg_score_100 %.1f' %avg_score_100,'std score %.1f' % std_score)\n",
    "\n"
   ]
  },
  {
   "cell_type": "code",
   "execution_count": 6,
   "metadata": {},
   "outputs": [
    {
     "name": "stdout",
     "output_type": "stream",
     "text": [
      "26210\n"
     ]
    }
   ],
   "source": [
    "n_steps = sum(episode_lens)\n",
    "print(n_steps)\n"
   ]
  },
  {
   "cell_type": "code",
   "execution_count": 18,
   "metadata": {},
   "outputs": [
    {
     "name": "stdout",
     "output_type": "stream",
     "text": [
      "... loading models ...\n"
     ]
    },
    {
     "ename": "ValueError",
     "evalue": "Unable to load weights saved in HDF5 format into a subclassed Model which has not created its variables yet. Call the Model first, then load the weights.",
     "output_type": "error",
     "traceback": [
      "\u001b[0;31m---------------------------------------------------------------------------\u001b[0m",
      "\u001b[0;31mValueError\u001b[0m                                Traceback (most recent call last)",
      "Cell \u001b[0;32mIn[18], line 11\u001b[0m\n\u001b[1;32m      8\u001b[0m env \u001b[38;5;241m=\u001b[39m RecordVideo(env, video_folder\u001b[38;5;241m=\u001b[39m\u001b[38;5;124m\"\u001b[39m\u001b[38;5;124mvideos\u001b[39m\u001b[38;5;124m\"\u001b[39m, episode_trigger\u001b[38;5;241m=\u001b[39m\u001b[38;5;28;01mlambda\u001b[39;00m e: \u001b[38;5;28;01mTrue\u001b[39;00m)\n\u001b[1;32m      9\u001b[0m env\u001b[38;5;241m.\u001b[39munwrapped\u001b[38;5;241m.\u001b[39mset_record_video_wrapper(env)\n\u001b[0;32m---> 11\u001b[0m \u001b[43magent\u001b[49m\u001b[38;5;241;43m.\u001b[39;49m\u001b[43mload_models\u001b[49m\u001b[43m(\u001b[49m\u001b[38;5;241;43m450\u001b[39;49m\u001b[43m)\u001b[49m\n\u001b[1;32m     13\u001b[0m \u001b[38;5;28;01mfor\u001b[39;00m episode \u001b[38;5;129;01min\u001b[39;00m trange(\u001b[38;5;241m1\u001b[39m, desc\u001b[38;5;241m=\u001b[39m\u001b[38;5;124m'\u001b[39m\u001b[38;5;124mTest episodes\u001b[39m\u001b[38;5;124m'\u001b[39m):\n\u001b[1;32m     15\u001b[0m         (observation, info), done \u001b[38;5;241m=\u001b[39m env\u001b[38;5;241m.\u001b[39mreset(), \u001b[38;5;28;01mFalse\u001b[39;00m\n",
      "File \u001b[0;32m~/Documents/thesis/two_acts_cnn/SAC/sac.py:212\u001b[0m, in \u001b[0;36mAgent.load_models\u001b[0;34m(self, episode)\u001b[0m\n\u001b[1;32m    209\u001b[0m \u001b[38;5;28;01mdef\u001b[39;00m \u001b[38;5;21mload_models\u001b[39m(\u001b[38;5;28mself\u001b[39m, episode):\n\u001b[1;32m    211\u001b[0m     \u001b[38;5;28mprint\u001b[39m(\u001b[38;5;124m'\u001b[39m\u001b[38;5;124m... loading models ...\u001b[39m\u001b[38;5;124m'\u001b[39m)\n\u001b[0;32m--> 212\u001b[0m     \u001b[38;5;28;43mself\u001b[39;49m\u001b[38;5;241;43m.\u001b[39;49m\u001b[43mactor\u001b[49m\u001b[38;5;241;43m.\u001b[39;49m\u001b[43mload_weights\u001b[49m\u001b[43m(\u001b[49m\u001b[38;5;124;43mf\u001b[39;49m\u001b[38;5;124;43m\"\u001b[39;49m\u001b[38;5;124;43mweights/\u001b[39;49m\u001b[38;5;132;43;01m{\u001b[39;49;00m\u001b[43mepisode\u001b[49m\u001b[38;5;132;43;01m}\u001b[39;49;00m\u001b[38;5;124;43m/self.actor.checkpoint_file.h5\u001b[39;49m\u001b[38;5;124;43m\"\u001b[39;49m\u001b[43m)\u001b[49m\n\u001b[1;32m    213\u001b[0m     \u001b[38;5;28mself\u001b[39m\u001b[38;5;241m.\u001b[39mcritic_1\u001b[38;5;241m.\u001b[39mload_weights(\u001b[38;5;124mf\u001b[39m\u001b[38;5;124m\"\u001b[39m\u001b[38;5;124mweights/\u001b[39m\u001b[38;5;132;01m{\u001b[39;00mepisode\u001b[38;5;132;01m}\u001b[39;00m\u001b[38;5;124m/self.critic_1.checkpoint_file.h5\u001b[39m\u001b[38;5;124m\"\u001b[39m)\n\u001b[1;32m    214\u001b[0m     \u001b[38;5;28mself\u001b[39m\u001b[38;5;241m.\u001b[39mcritic_2\u001b[38;5;241m.\u001b[39mload_weights(\u001b[38;5;124mf\u001b[39m\u001b[38;5;124m\"\u001b[39m\u001b[38;5;124mweights/\u001b[39m\u001b[38;5;132;01m{\u001b[39;00mepisode\u001b[38;5;132;01m}\u001b[39;00m\u001b[38;5;124m/self.critic_2.checkpoint_file.h5\u001b[39m\u001b[38;5;124m\"\u001b[39m)\n",
      "File \u001b[0;32m~/.pyenv/versions/3.10.13/lib/python3.10/site-packages/keras/src/utils/traceback_utils.py:70\u001b[0m, in \u001b[0;36mfilter_traceback.<locals>.error_handler\u001b[0;34m(*args, **kwargs)\u001b[0m\n\u001b[1;32m     67\u001b[0m     filtered_tb \u001b[38;5;241m=\u001b[39m _process_traceback_frames(e\u001b[38;5;241m.\u001b[39m__traceback__)\n\u001b[1;32m     68\u001b[0m     \u001b[38;5;66;03m# To get the full stack trace, call:\u001b[39;00m\n\u001b[1;32m     69\u001b[0m     \u001b[38;5;66;03m# `tf.debugging.disable_traceback_filtering()`\u001b[39;00m\n\u001b[0;32m---> 70\u001b[0m     \u001b[38;5;28;01mraise\u001b[39;00m e\u001b[38;5;241m.\u001b[39mwith_traceback(filtered_tb) \u001b[38;5;28;01mfrom\u001b[39;00m \u001b[38;5;28;01mNone\u001b[39;00m\n\u001b[1;32m     71\u001b[0m \u001b[38;5;28;01mfinally\u001b[39;00m:\n\u001b[1;32m     72\u001b[0m     \u001b[38;5;28;01mdel\u001b[39;00m filtered_tb\n",
      "File \u001b[0;32m~/.pyenv/versions/3.10.13/lib/python3.10/site-packages/keras/src/saving/legacy/save.py:480\u001b[0m, in \u001b[0;36mload_weights\u001b[0;34m(model, filepath, by_name, skip_mismatch, options)\u001b[0m\n\u001b[1;32m    475\u001b[0m     \u001b[38;5;28;01mraise\u001b[39;00m \u001b[38;5;167;01mImportError\u001b[39;00m(\n\u001b[1;32m    476\u001b[0m         \u001b[38;5;124m\"\u001b[39m\u001b[38;5;124m`load_weights` requires h5py package when loading weights \u001b[39m\u001b[38;5;124m\"\u001b[39m\n\u001b[1;32m    477\u001b[0m         \u001b[38;5;124m\"\u001b[39m\u001b[38;5;124mfrom HDF5. Try installing h5py.\u001b[39m\u001b[38;5;124m\"\u001b[39m\n\u001b[1;32m    478\u001b[0m     )\n\u001b[1;32m    479\u001b[0m \u001b[38;5;28;01mif\u001b[39;00m \u001b[38;5;129;01mnot\u001b[39;00m model\u001b[38;5;241m.\u001b[39m_is_graph_network \u001b[38;5;129;01mand\u001b[39;00m \u001b[38;5;129;01mnot\u001b[39;00m model\u001b[38;5;241m.\u001b[39mbuilt:\n\u001b[0;32m--> 480\u001b[0m     \u001b[38;5;28;01mraise\u001b[39;00m \u001b[38;5;167;01mValueError\u001b[39;00m(\n\u001b[1;32m    481\u001b[0m         \u001b[38;5;124m\"\u001b[39m\u001b[38;5;124mUnable to load weights saved in HDF5 format into a \u001b[39m\u001b[38;5;124m\"\u001b[39m\n\u001b[1;32m    482\u001b[0m         \u001b[38;5;124m\"\u001b[39m\u001b[38;5;124msubclassed Model which has not created its variables yet. \u001b[39m\u001b[38;5;124m\"\u001b[39m\n\u001b[1;32m    483\u001b[0m         \u001b[38;5;124m\"\u001b[39m\u001b[38;5;124mCall the Model first, then load the weights.\u001b[39m\u001b[38;5;124m\"\u001b[39m\n\u001b[1;32m    484\u001b[0m     )\n\u001b[1;32m    485\u001b[0m model\u001b[38;5;241m.\u001b[39m_assert_weights_created()\n\u001b[1;32m    486\u001b[0m \u001b[38;5;28;01mwith\u001b[39;00m h5py\u001b[38;5;241m.\u001b[39mFile(filepath, \u001b[38;5;124m\"\u001b[39m\u001b[38;5;124mr\u001b[39m\u001b[38;5;124m\"\u001b[39m) \u001b[38;5;28;01mas\u001b[39;00m f:\n",
      "\u001b[0;31mValueError\u001b[0m: Unable to load weights saved in HDF5 format into a subclassed Model which has not created its variables yet. Call the Model first, then load the weights."
     ]
    }
   ],
   "source": [
    "\n",
    "# env = record_videos(env)\n",
    "from gymnasium.wrappers import RecordVideo\n",
    "\n",
    "# data = load_config()\n",
    "# env = gym.make('racetrack-v0', render_mode = 'rgb_array')\n",
    "# env.configure(data) # type: ignore\n",
    "\n",
    "env = RecordVideo(env, video_folder=\"videos\", episode_trigger=lambda e: True)\n",
    "env.unwrapped.set_record_video_wrapper(env)\n",
    "\n",
    "agent.load_models(450)\n",
    "\n",
    "for episode in trange(1, desc='Test episodes'):\n",
    "\n",
    "        (observation, info), done = env.reset(), False\n",
    "        truncated = False\n",
    "        observation = observation_shape(observation) \n",
    "\n",
    "        episode_reward = 0\n",
    "        episode_len = 0\n",
    "        while (not done) and (not truncated):\n",
    "            action = agent.choose_action(observation)\n",
    "\n",
    "            new_observation, reward, done, truncated, new_info = env.step(action=action)\n",
    "            new_observation = observation_shape(new_observation)\n",
    "            \n",
    "            episode_reward += reward # type: ignore\n",
    "            episode_len +=1\n",
    "\n",
    "            if new_info[\"rewards\"][\"on_road_reward\"] == False or episode_len >= 200:\n",
    "                truncated = True\n",
    "\n",
    "            agent.remember(state=observation, action=action, done=done,\n",
    "                            reward=reward, new_state=new_observation)\n",
    "            agent.learn()\n",
    "\n",
    "            observation = new_observation\n",
    "\n",
    "\n",
    "env.close()\n"
   ]
  }
 ],
 "metadata": {
  "kernelspec": {
   "display_name": ".venv",
   "language": "python",
   "name": "python3"
  },
  "language_info": {
   "codemirror_mode": {
    "name": "ipython",
    "version": 3
   },
   "file_extension": ".py",
   "mimetype": "text/x-python",
   "name": "python",
   "nbconvert_exporter": "python",
   "pygments_lexer": "ipython3",
   "version": "3.10.13"
  }
 },
 "nbformat": 4,
 "nbformat_minor": 2
}
